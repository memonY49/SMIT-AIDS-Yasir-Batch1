{
 "cells": [
  {
   "cell_type": "code",
   "execution_count": 2,
   "id": "deb9ad69-a29e-4bb5-96d9-f4c1876fef6d",
   "metadata": {},
   "outputs": [],
   "source": [
    "import numpy as np\n",
    "import pandas as pd"
   ]
  },
  {
   "cell_type": "code",
   "execution_count": 106,
   "id": "9e32d9f1-84d3-4b42-ad95-d313a0da3fc7",
   "metadata": {},
   "outputs": [],
   "source": [
    "a =  [[1,2,3,4,5],[2,3,5,7,8]]"
   ]
  },
  {
   "cell_type": "code",
   "execution_count": 107,
   "id": "c9837285-9ced-48b4-84e1-977f6307338b",
   "metadata": {},
   "outputs": [],
   "source": [
    "myarray = np.array(a)"
   ]
  },
  {
   "cell_type": "code",
   "execution_count": 108,
   "id": "7686ef9f-cdef-4f5f-90e8-4781a09d896f",
   "metadata": {},
   "outputs": [
    {
     "data": {
      "text/plain": [
       "array([[1, 2, 3, 4, 5],\n",
       "       [2, 3, 5, 7, 8]])"
      ]
     },
     "execution_count": 108,
     "metadata": {},
     "output_type": "execute_result"
    }
   ],
   "source": [
    "myarray"
   ]
  },
  {
   "cell_type": "code",
   "execution_count": 122,
   "id": "5151f60e-91f7-4436-85ae-4664254f78ac",
   "metadata": {},
   "outputs": [],
   "source": [
    "df = pd.DataFrame(a,columns = [\"a\",\"b\",\"c\",\"d\",\"e\"], index = [\"first\",\"second\"])"
   ]
  },
  {
   "cell_type": "code",
   "execution_count": 125,
   "id": "a6d8362d-a0bc-4492-b353-01e96e5d33dc",
   "metadata": {},
   "outputs": [],
   "source": [
    "df = df.astype({\"a\": str,\"b\":float,\"c\":int,\"d\":float})"
   ]
  },
  {
   "cell_type": "code",
   "execution_count": 126,
   "id": "65f8a1a0-ba7a-48b7-9f4a-1ce9f5516644",
   "metadata": {},
   "outputs": [
    {
     "name": "stdout",
     "output_type": "stream",
     "text": [
      "<class 'pandas.core.frame.DataFrame'>\n",
      "Index: 2 entries, first to second\n",
      "Data columns (total 5 columns):\n",
      " #   Column  Non-Null Count  Dtype  \n",
      "---  ------  --------------  -----  \n",
      " 0   a       2 non-null      object \n",
      " 1   b       2 non-null      float64\n",
      " 2   c       2 non-null      int64  \n",
      " 3   d       2 non-null      float64\n",
      " 4   e       2 non-null      int64  \n",
      "dtypes: float64(2), int64(2), object(1)\n",
      "memory usage: 96.0+ bytes\n",
      "None\n"
     ]
    }
   ],
   "source": [
    "print(df.info())"
   ]
  },
  {
   "cell_type": "code",
   "execution_count": 152,
   "id": "0c2f2947-5af5-4791-9fb3-beb8da0b89a3",
   "metadata": {},
   "outputs": [],
   "source": [
    "student = [{\"Name\":\"Ahmed\",\"Fname\":\"Ali\",\"FinalMarks\":80,\"Grade\":\"A\"},\n",
    "           {\"Name\":\"Ahmed\",\"Fname\":\"Ali\",\"FinalMarks\":80,\"Grade\":\"A\"},\n",
    "           {\"Name\":\"Ahmed\",\"Fname\":\"Ali\",\"FinalMarks\":\"Fail\",\"Grade\":\"A\"},\n",
    "           {\"Name\":\"Ahmed\",\"Fname\":\"Ali\",\"FinalMarks\":80,\"Grade\":\"A\"},\n",
    "           {\"Name\":\"Ahmed\",\"Fname\":\"Ali\",\"FinalMarks\":80,\"Grade\":\"A\"},\n",
    "          {\"Name\":\"Ahmed\",\"Fname\":\"Ali\",\"FinalMarks\":80,\"Grade\":\"A\"},\n",
    "           {\"Name\":\"Ahmed\",\"Fname\":\"Ali\",\"FinalMarks\":80,\"Grade\":\"A\"},\n",
    "           {\"Name\":\"Ahmed\",\"Fname\":\"Ali\",\"FinalMarks\":\"Fail\",\"Grade\":\"A\"},\n",
    "           {\"Name\":\"Ahmed\",\"Fname\":\"Ali\",\"FinalMarks\":30,\"Grade\":\"A\"},\n",
    "           {\"Name\":\"Ahmed\",\"Fname\":\"Ali\",\"FinalMarks\":40,\"Grade\":\"A\"},\n",
    "          {\"Name\":\"Ahmed\",\"Fname\":\"Ali\",\"FinalMarks\":80,\"Grade\":\"A\"},\n",
    "           {\"Name\":\"Ahmed\",\"Fname\":\"Ali\",\"FinalMarks\":60,\"Grade\":\"A\"},\n",
    "           {\"Name\":\"Ahmed\",\"Fname\":\"Ali\",\"FinalMarks\":\"Fail\",\"Grade\":\"A\"},\n",
    "           {\"Name\":\"Ahmed\",\"Fname\":\"Ali\",\"FinalMarks\":70,\"Grade\":\"A\"},\n",
    "           {\"Name\":\"Ahmed\",\"Fname\":\"Ali\",\"FinalMarks\":80,\"Grade\":\"A\"},{\"Name\":\"Ahmed\",\"Fname\":\"Ali\",\"FinalMarks\":80,\"Grade\":\"A\"},\n",
    "           {\"Name\":\"Ahmed\",\"Fname\":\"Ali\",\"FinalMarks\":80,\"Grade\":\"A\"},\n",
    "           {\"Name\":\"Ahmed\",\"Fname\":\"Ali\",\"FinalMarks\":\"Fail\",\"Grade\":\"A\"},\n",
    "           {\"Name\":\"Ahmed\",\"Fname\":\"Ali\",\"FinalMarks\":80,\"Grade\":\"A\"},\n",
    "           {\"Name\":\"Ahmed\",\"Fname\":\"Ali\",\"FinalMarks\":80,\"Grade\":\"A\"}]"
   ]
  },
  {
   "cell_type": "code",
   "execution_count": 153,
   "id": "c5d8a976-b2bd-43a9-a70d-961330416691",
   "metadata": {},
   "outputs": [],
   "source": [
    "df2 = pd.DataFrame(student)"
   ]
  },
  {
   "cell_type": "code",
   "execution_count": 98,
   "id": "e4684d6f-0fbe-4b89-a095-e69280545d72",
   "metadata": {},
   "outputs": [
    {
     "data": {
      "text/html": [
       "<div>\n",
       "<style scoped>\n",
       "    .dataframe tbody tr th:only-of-type {\n",
       "        vertical-align: middle;\n",
       "    }\n",
       "\n",
       "    .dataframe tbody tr th {\n",
       "        vertical-align: top;\n",
       "    }\n",
       "\n",
       "    .dataframe thead th {\n",
       "        text-align: right;\n",
       "    }\n",
       "</style>\n",
       "<table border=\"1\" class=\"dataframe\">\n",
       "  <thead>\n",
       "    <tr style=\"text-align: right;\">\n",
       "      <th></th>\n",
       "      <th>Name</th>\n",
       "      <th>Fname</th>\n",
       "      <th>FinalMarks</th>\n",
       "      <th>Grade</th>\n",
       "    </tr>\n",
       "  </thead>\n",
       "  <tbody>\n",
       "    <tr>\n",
       "      <th>0</th>\n",
       "      <td>Ahmed</td>\n",
       "      <td>Ali</td>\n",
       "      <td>80</td>\n",
       "      <td>A</td>\n",
       "    </tr>\n",
       "    <tr>\n",
       "      <th>1</th>\n",
       "      <td>Ahmed</td>\n",
       "      <td>Ali</td>\n",
       "      <td>80</td>\n",
       "      <td>A</td>\n",
       "    </tr>\n",
       "    <tr>\n",
       "      <th>2</th>\n",
       "      <td>Ahmed</td>\n",
       "      <td>Ali</td>\n",
       "      <td>Fail</td>\n",
       "      <td>A</td>\n",
       "    </tr>\n",
       "    <tr>\n",
       "      <th>3</th>\n",
       "      <td>Ahmed</td>\n",
       "      <td>Ali</td>\n",
       "      <td>80</td>\n",
       "      <td>A</td>\n",
       "    </tr>\n",
       "    <tr>\n",
       "      <th>4</th>\n",
       "      <td>Ahmed</td>\n",
       "      <td>Ali</td>\n",
       "      <td>80</td>\n",
       "      <td>A</td>\n",
       "    </tr>\n",
       "  </tbody>\n",
       "</table>\n",
       "</div>"
      ],
      "text/plain": [
       "    Name Fname FinalMarks Grade\n",
       "0  Ahmed   Ali         80     A\n",
       "1  Ahmed   Ali         80     A\n",
       "2  Ahmed   Ali       Fail     A\n",
       "3  Ahmed   Ali         80     A\n",
       "4  Ahmed   Ali         80     A"
      ]
     },
     "execution_count": 98,
     "metadata": {},
     "output_type": "execute_result"
    }
   ],
   "source": [
    "df2"
   ]
  },
  {
   "cell_type": "code",
   "execution_count": 81,
   "id": "9a17a63f-58d3-45a6-bd9b-a7210a01f872",
   "metadata": {},
   "outputs": [
    {
     "name": "stdout",
     "output_type": "stream",
     "text": [
      "<class 'pandas.core.frame.DataFrame'>\n",
      "RangeIndex: 5 entries, 0 to 4\n",
      "Data columns (total 4 columns):\n",
      " #   Column      Non-Null Count  Dtype \n",
      "---  ------      --------------  ----- \n",
      " 0   Name        5 non-null      object\n",
      " 1   Fname       5 non-null      object\n",
      " 2   FinalMarks  5 non-null      object\n",
      " 3   Grade       5 non-null      object\n",
      "dtypes: object(4)\n",
      "memory usage: 292.0+ bytes\n"
     ]
    }
   ],
   "source": [
    "df2.info()"
   ]
  },
  {
   "cell_type": "code",
   "execution_count": 91,
   "id": "00770d1b-1184-4de9-9102-91b6f1181d5b",
   "metadata": {},
   "outputs": [
    {
     "data": {
      "text/plain": [
       "\u001b[1;31mSignature:\u001b[0m\n",
       "\u001b[0mpd\u001b[0m\u001b[1;33m.\u001b[0m\u001b[0mto_numeric\u001b[0m\u001b[1;33m(\u001b[0m\u001b[1;33m\n",
       "\u001b[0m    \u001b[0marg\u001b[0m\u001b[1;33m,\u001b[0m\u001b[1;33m\n",
       "\u001b[0m    \u001b[0merrors\u001b[0m\u001b[1;33m:\u001b[0m \u001b[1;34m'DateTimeErrorChoices'\u001b[0m \u001b[1;33m=\u001b[0m \u001b[1;34m'raise'\u001b[0m\u001b[1;33m,\u001b[0m\u001b[1;33m\n",
       "\u001b[0m    \u001b[0mdowncast\u001b[0m\u001b[1;33m:\u001b[0m \u001b[1;34m\"Literal['integer', 'signed', 'unsigned', 'float'] | None\"\u001b[0m \u001b[1;33m=\u001b[0m \u001b[1;32mNone\u001b[0m\u001b[1;33m,\u001b[0m\u001b[1;33m\n",
       "\u001b[0m    \u001b[0mdtype_backend\u001b[0m\u001b[1;33m:\u001b[0m \u001b[1;34m'DtypeBackend | lib.NoDefault'\u001b[0m \u001b[1;33m=\u001b[0m \u001b[1;33m<\u001b[0m\u001b[0mno_default\u001b[0m\u001b[1;33m>\u001b[0m\u001b[1;33m,\u001b[0m\u001b[1;33m\n",
       "\u001b[0m\u001b[1;33m)\u001b[0m\u001b[1;33m\u001b[0m\u001b[1;33m\u001b[0m\u001b[0m\n",
       "\u001b[1;31mDocstring:\u001b[0m\n",
       "Convert argument to a numeric type.\n",
       "\n",
       "The default return dtype is `float64` or `int64`\n",
       "depending on the data supplied. Use the `downcast` parameter\n",
       "to obtain other dtypes.\n",
       "\n",
       "Please note that precision loss may occur if really large numbers\n",
       "are passed in. Due to the internal limitations of `ndarray`, if\n",
       "numbers smaller than `-9223372036854775808` (np.iinfo(np.int64).min)\n",
       "or larger than `18446744073709551615` (np.iinfo(np.uint64).max) are\n",
       "passed in, it is very likely they will be converted to float so that\n",
       "they can be stored in an `ndarray`. These warnings apply similarly to\n",
       "`Series` since it internally leverages `ndarray`.\n",
       "\n",
       "Parameters\n",
       "----------\n",
       "arg : scalar, list, tuple, 1-d array, or Series\n",
       "    Argument to be converted.\n",
       "errors : {'ignore', 'raise', 'coerce'}, default 'raise'\n",
       "    - If 'raise', then invalid parsing will raise an exception.\n",
       "    - If 'coerce', then invalid parsing will be set as NaN.\n",
       "    - If 'ignore', then invalid parsing will return the input.\n",
       "\n",
       "    .. versionchanged:: 2.2\n",
       "\n",
       "    \"ignore\" is deprecated. Catch exceptions explicitly instead.\n",
       "\n",
       "downcast : str, default None\n",
       "    Can be 'integer', 'signed', 'unsigned', or 'float'.\n",
       "    If not None, and if the data has been successfully cast to a\n",
       "    numerical dtype (or if the data was numeric to begin with),\n",
       "    downcast that resulting data to the smallest numerical dtype\n",
       "    possible according to the following rules:\n",
       "\n",
       "    - 'integer' or 'signed': smallest signed int dtype (min.: np.int8)\n",
       "    - 'unsigned': smallest unsigned int dtype (min.: np.uint8)\n",
       "    - 'float': smallest float dtype (min.: np.float32)\n",
       "\n",
       "    As this behaviour is separate from the core conversion to\n",
       "    numeric values, any errors raised during the downcasting\n",
       "    will be surfaced regardless of the value of the 'errors' input.\n",
       "\n",
       "    In addition, downcasting will only occur if the size\n",
       "    of the resulting data's dtype is strictly larger than\n",
       "    the dtype it is to be cast to, so if none of the dtypes\n",
       "    checked satisfy that specification, no downcasting will be\n",
       "    performed on the data.\n",
       "dtype_backend : {'numpy_nullable', 'pyarrow'}, default 'numpy_nullable'\n",
       "    Back-end data type applied to the resultant :class:`DataFrame`\n",
       "    (still experimental). Behaviour is as follows:\n",
       "\n",
       "    * ``\"numpy_nullable\"``: returns nullable-dtype-backed :class:`DataFrame`\n",
       "      (default).\n",
       "    * ``\"pyarrow\"``: returns pyarrow-backed nullable :class:`ArrowDtype`\n",
       "      DataFrame.\n",
       "\n",
       "    .. versionadded:: 2.0\n",
       "\n",
       "Returns\n",
       "-------\n",
       "ret\n",
       "    Numeric if parsing succeeded.\n",
       "    Return type depends on input.  Series if Series, otherwise ndarray.\n",
       "\n",
       "See Also\n",
       "--------\n",
       "DataFrame.astype : Cast argument to a specified dtype.\n",
       "to_datetime : Convert argument to datetime.\n",
       "to_timedelta : Convert argument to timedelta.\n",
       "numpy.ndarray.astype : Cast a numpy array to a specified type.\n",
       "DataFrame.convert_dtypes : Convert dtypes.\n",
       "\n",
       "Examples\n",
       "--------\n",
       "Take separate series and convert to numeric, coercing when told to\n",
       "\n",
       ">>> s = pd.Series(['1.0', '2', -3])\n",
       ">>> pd.to_numeric(s)\n",
       "0    1.0\n",
       "1    2.0\n",
       "2   -3.0\n",
       "dtype: float64\n",
       ">>> pd.to_numeric(s, downcast='float')\n",
       "0    1.0\n",
       "1    2.0\n",
       "2   -3.0\n",
       "dtype: float32\n",
       ">>> pd.to_numeric(s, downcast='signed')\n",
       "0    1\n",
       "1    2\n",
       "2   -3\n",
       "dtype: int8\n",
       ">>> s = pd.Series(['apple', '1.0', '2', -3])\n",
       ">>> pd.to_numeric(s, errors='coerce')\n",
       "0    NaN\n",
       "1    1.0\n",
       "2    2.0\n",
       "3   -3.0\n",
       "dtype: float64\n",
       "\n",
       "Downcasting of nullable integer and floating dtypes is supported:\n",
       "\n",
       ">>> s = pd.Series([1, 2, 3], dtype=\"Int64\")\n",
       ">>> pd.to_numeric(s, downcast=\"integer\")\n",
       "0    1\n",
       "1    2\n",
       "2    3\n",
       "dtype: Int8\n",
       ">>> s = pd.Series([1.0, 2.1, 3.0], dtype=\"Float64\")\n",
       ">>> pd.to_numeric(s, downcast=\"float\")\n",
       "0    1.0\n",
       "1    2.1\n",
       "2    3.0\n",
       "dtype: Float32\n",
       "\u001b[1;31mFile:\u001b[0m      c:\\users\\memon\\appdata\\local\\programs\\python\\python311\\lib\\site-packages\\pandas\\core\\tools\\numeric.py\n",
       "\u001b[1;31mType:\u001b[0m      function"
      ]
     },
     "metadata": {},
     "output_type": "display_data"
    }
   ],
   "source": [
    "# df2[\"FinalMarks\"] = df2[\"FinalMarks\"].astype(float)\n",
    "df2[\"FinalMarks\"] = pd.to_numeric(df2[\"FinalMarks\"], errors = 'coerce')\n",
    "pd.to_numeric?"
   ]
  },
  {
   "cell_type": "code",
   "execution_count": 88,
   "id": "fc21de0e-b5f0-4bee-b6e6-83b94beb8c5a",
   "metadata": {},
   "outputs": [
    {
     "name": "stdout",
     "output_type": "stream",
     "text": [
      "<class 'pandas.core.frame.DataFrame'>\n",
      "RangeIndex: 5 entries, 0 to 4\n",
      "Data columns (total 4 columns):\n",
      " #   Column      Non-Null Count  Dtype  \n",
      "---  ------      --------------  -----  \n",
      " 0   Name        5 non-null      object \n",
      " 1   Fname       5 non-null      object \n",
      " 2   FinalMarks  4 non-null      float64\n",
      " 3   Grade       5 non-null      object \n",
      "dtypes: float64(1), object(3)\n",
      "memory usage: 292.0+ bytes\n"
     ]
    }
   ],
   "source": [
    "df2.info()"
   ]
  },
  {
   "cell_type": "code",
   "execution_count": 103,
   "id": "c4e921ff-e5e1-4b4f-9714-396c7427f000",
   "metadata": {},
   "outputs": [
    {
     "data": {
      "text/html": [
       "<div>\n",
       "<style scoped>\n",
       "    .dataframe tbody tr th:only-of-type {\n",
       "        vertical-align: middle;\n",
       "    }\n",
       "\n",
       "    .dataframe tbody tr th {\n",
       "        vertical-align: top;\n",
       "    }\n",
       "\n",
       "    .dataframe thead th {\n",
       "        text-align: right;\n",
       "    }\n",
       "</style>\n",
       "<table border=\"1\" class=\"dataframe\">\n",
       "  <thead>\n",
       "    <tr style=\"text-align: right;\">\n",
       "      <th></th>\n",
       "      <th>Name</th>\n",
       "      <th>Fname</th>\n",
       "      <th>FinalMarks</th>\n",
       "      <th>Grade</th>\n",
       "    </tr>\n",
       "  </thead>\n",
       "  <tbody>\n",
       "    <tr>\n",
       "      <th>0</th>\n",
       "      <td>Ahmed</td>\n",
       "      <td>Ali</td>\n",
       "      <td>80</td>\n",
       "      <td>A</td>\n",
       "    </tr>\n",
       "    <tr>\n",
       "      <th>1</th>\n",
       "      <td>Ahmed</td>\n",
       "      <td>Ali</td>\n",
       "      <td>80</td>\n",
       "      <td>A</td>\n",
       "    </tr>\n",
       "    <tr>\n",
       "      <th>2</th>\n",
       "      <td>Ahmed</td>\n",
       "      <td>Ali</td>\n",
       "      <td>Fail</td>\n",
       "      <td>A</td>\n",
       "    </tr>\n",
       "    <tr>\n",
       "      <th>3</th>\n",
       "      <td>Ahmed</td>\n",
       "      <td>Ali</td>\n",
       "      <td>80</td>\n",
       "      <td>A</td>\n",
       "    </tr>\n",
       "    <tr>\n",
       "      <th>4</th>\n",
       "      <td>Ahmed</td>\n",
       "      <td>Ali</td>\n",
       "      <td>80</td>\n",
       "      <td>A</td>\n",
       "    </tr>\n",
       "  </tbody>\n",
       "</table>\n",
       "</div>"
      ],
      "text/plain": [
       "    Name Fname FinalMarks Grade\n",
       "0  Ahmed   Ali         80     A\n",
       "1  Ahmed   Ali         80     A\n",
       "2  Ahmed   Ali       Fail     A\n",
       "3  Ahmed   Ali         80     A\n",
       "4  Ahmed   Ali         80     A"
      ]
     },
     "execution_count": 103,
     "metadata": {},
     "output_type": "execute_result"
    }
   ],
   "source": [
    "df2"
   ]
  },
  {
   "cell_type": "code",
   "execution_count": 104,
   "id": "126ff93a-3f70-4147-9201-843e639ad19d",
   "metadata": {},
   "outputs": [
    {
     "data": {
      "text/html": [
       "<div>\n",
       "<style scoped>\n",
       "    .dataframe tbody tr th:only-of-type {\n",
       "        vertical-align: middle;\n",
       "    }\n",
       "\n",
       "    .dataframe tbody tr th {\n",
       "        vertical-align: top;\n",
       "    }\n",
       "\n",
       "    .dataframe thead th {\n",
       "        text-align: right;\n",
       "    }\n",
       "</style>\n",
       "<table border=\"1\" class=\"dataframe\">\n",
       "  <thead>\n",
       "    <tr style=\"text-align: right;\">\n",
       "      <th></th>\n",
       "      <th>a</th>\n",
       "      <th>b</th>\n",
       "      <th>c</th>\n",
       "      <th>d</th>\n",
       "      <th>e</th>\n",
       "    </tr>\n",
       "  </thead>\n",
       "  <tbody>\n",
       "    <tr>\n",
       "      <th>first</th>\n",
       "      <td>1</td>\n",
       "      <td>2.0</td>\n",
       "      <td>3</td>\n",
       "      <td>4.0</td>\n",
       "      <td>5</td>\n",
       "    </tr>\n",
       "    <tr>\n",
       "      <th>second</th>\n",
       "      <td>2</td>\n",
       "      <td>3.0</td>\n",
       "      <td>5</td>\n",
       "      <td>7.0</td>\n",
       "      <td>8</td>\n",
       "    </tr>\n",
       "  </tbody>\n",
       "</table>\n",
       "</div>"
      ],
      "text/plain": [
       "        a    b  c    d  e\n",
       "first   1  2.0  3  4.0  5\n",
       "second  2  3.0  5  7.0  8"
      ]
     },
     "execution_count": 104,
     "metadata": {},
     "output_type": "execute_result"
    }
   ],
   "source": [
    "df"
   ]
  },
  {
   "cell_type": "code",
   "execution_count": 114,
   "id": "f33bc0cc-071c-481d-9262-253fc87eecdf",
   "metadata": {},
   "outputs": [],
   "source": [
    "df[\"f\"] = df[\"a\"]+df[\"c\"]"
   ]
  },
  {
   "cell_type": "code",
   "execution_count": 116,
   "id": "244b0b51-b42c-4950-a134-0a68fa31383d",
   "metadata": {},
   "outputs": [
    {
     "data": {
      "text/plain": [
       "(2, 6)"
      ]
     },
     "execution_count": 116,
     "metadata": {},
     "output_type": "execute_result"
    }
   ],
   "source": [
    "df.shape"
   ]
  },
  {
   "cell_type": "code",
   "execution_count": 117,
   "id": "6805d5fe-4dbc-4149-a8bb-079f2ae2269c",
   "metadata": {},
   "outputs": [
    {
     "data": {
      "text/plain": [
       "12"
      ]
     },
     "execution_count": 117,
     "metadata": {},
     "output_type": "execute_result"
    }
   ],
   "source": [
    "df.size"
   ]
  },
  {
   "cell_type": "code",
   "execution_count": 118,
   "id": "55041672-5a8e-4b0d-badd-1966bbae29c5",
   "metadata": {},
   "outputs": [
    {
     "data": {
      "text/html": [
       "<div>\n",
       "<style scoped>\n",
       "    .dataframe tbody tr th:only-of-type {\n",
       "        vertical-align: middle;\n",
       "    }\n",
       "\n",
       "    .dataframe tbody tr th {\n",
       "        vertical-align: top;\n",
       "    }\n",
       "\n",
       "    .dataframe thead th {\n",
       "        text-align: right;\n",
       "    }\n",
       "</style>\n",
       "<table border=\"1\" class=\"dataframe\">\n",
       "  <thead>\n",
       "    <tr style=\"text-align: right;\">\n",
       "      <th></th>\n",
       "      <th>Name</th>\n",
       "      <th>Fname</th>\n",
       "      <th>FinalMarks</th>\n",
       "      <th>Grade</th>\n",
       "    </tr>\n",
       "  </thead>\n",
       "  <tbody>\n",
       "    <tr>\n",
       "      <th>0</th>\n",
       "      <td>Ahmed</td>\n",
       "      <td>Ali</td>\n",
       "      <td>80</td>\n",
       "      <td>A</td>\n",
       "    </tr>\n",
       "    <tr>\n",
       "      <th>1</th>\n",
       "      <td>Ahmed</td>\n",
       "      <td>Ali</td>\n",
       "      <td>80</td>\n",
       "      <td>A</td>\n",
       "    </tr>\n",
       "    <tr>\n",
       "      <th>2</th>\n",
       "      <td>Ahmed</td>\n",
       "      <td>Ali</td>\n",
       "      <td>Fail</td>\n",
       "      <td>A</td>\n",
       "    </tr>\n",
       "    <tr>\n",
       "      <th>3</th>\n",
       "      <td>Ahmed</td>\n",
       "      <td>Ali</td>\n",
       "      <td>80</td>\n",
       "      <td>A</td>\n",
       "    </tr>\n",
       "    <tr>\n",
       "      <th>4</th>\n",
       "      <td>Ahmed</td>\n",
       "      <td>Ali</td>\n",
       "      <td>80</td>\n",
       "      <td>A</td>\n",
       "    </tr>\n",
       "  </tbody>\n",
       "</table>\n",
       "</div>"
      ],
      "text/plain": [
       "    Name Fname FinalMarks Grade\n",
       "0  Ahmed   Ali         80     A\n",
       "1  Ahmed   Ali         80     A\n",
       "2  Ahmed   Ali       Fail     A\n",
       "3  Ahmed   Ali         80     A\n",
       "4  Ahmed   Ali         80     A"
      ]
     },
     "execution_count": 118,
     "metadata": {},
     "output_type": "execute_result"
    }
   ],
   "source": [
    "df2"
   ]
  },
  {
   "cell_type": "code",
   "execution_count": 156,
   "id": "9624e1a0-744f-4ba4-9601-7aa5be87f57f",
   "metadata": {},
   "outputs": [],
   "source": [
    "df2[\"Class\"] = pd.Series([12,11,10], index= [0,1,4])"
   ]
  },
  {
   "cell_type": "code",
   "execution_count": 157,
   "id": "6e9711c8-9269-4a32-afbb-70c4e7a94a11",
   "metadata": {},
   "outputs": [
    {
     "name": "stdout",
     "output_type": "stream",
     "text": [
      "<class 'pandas.core.frame.DataFrame'>\n",
      "RangeIndex: 20 entries, 0 to 19\n",
      "Data columns (total 5 columns):\n",
      " #   Column      Non-Null Count  Dtype  \n",
      "---  ------      --------------  -----  \n",
      " 0   Name        20 non-null     object \n",
      " 1   Fname       20 non-null     object \n",
      " 2   FinalMarks  16 non-null     float64\n",
      " 3   Grade       20 non-null     object \n",
      " 4   Class       3 non-null      float64\n",
      "dtypes: float64(2), object(3)\n",
      "memory usage: 932.0+ bytes\n"
     ]
    }
   ],
   "source": [
    "df2[\"FinalMarks\"] = pd.to_numeric(df2[\"FinalMarks\"], errors = 'coerce')\n",
    "df2.info()"
   ]
  },
  {
   "cell_type": "code",
   "execution_count": 158,
   "id": "c0759c21-8293-4921-991e-b8edd791f25a",
   "metadata": {},
   "outputs": [
    {
     "data": {
      "text/html": [
       "<div>\n",
       "<style scoped>\n",
       "    .dataframe tbody tr th:only-of-type {\n",
       "        vertical-align: middle;\n",
       "    }\n",
       "\n",
       "    .dataframe tbody tr th {\n",
       "        vertical-align: top;\n",
       "    }\n",
       "\n",
       "    .dataframe thead th {\n",
       "        text-align: right;\n",
       "    }\n",
       "</style>\n",
       "<table border=\"1\" class=\"dataframe\">\n",
       "  <thead>\n",
       "    <tr style=\"text-align: right;\">\n",
       "      <th></th>\n",
       "      <th>FinalMarks</th>\n",
       "      <th>Class</th>\n",
       "    </tr>\n",
       "  </thead>\n",
       "  <tbody>\n",
       "    <tr>\n",
       "      <th>count</th>\n",
       "      <td>16.000000</td>\n",
       "      <td>3.0</td>\n",
       "    </tr>\n",
       "    <tr>\n",
       "      <th>mean</th>\n",
       "      <td>72.500000</td>\n",
       "      <td>11.0</td>\n",
       "    </tr>\n",
       "    <tr>\n",
       "      <th>std</th>\n",
       "      <td>15.705625</td>\n",
       "      <td>1.0</td>\n",
       "    </tr>\n",
       "    <tr>\n",
       "      <th>min</th>\n",
       "      <td>30.000000</td>\n",
       "      <td>10.0</td>\n",
       "    </tr>\n",
       "    <tr>\n",
       "      <th>25%</th>\n",
       "      <td>77.500000</td>\n",
       "      <td>10.5</td>\n",
       "    </tr>\n",
       "    <tr>\n",
       "      <th>50%</th>\n",
       "      <td>80.000000</td>\n",
       "      <td>11.0</td>\n",
       "    </tr>\n",
       "    <tr>\n",
       "      <th>75%</th>\n",
       "      <td>80.000000</td>\n",
       "      <td>11.5</td>\n",
       "    </tr>\n",
       "    <tr>\n",
       "      <th>max</th>\n",
       "      <td>80.000000</td>\n",
       "      <td>12.0</td>\n",
       "    </tr>\n",
       "  </tbody>\n",
       "</table>\n",
       "</div>"
      ],
      "text/plain": [
       "       FinalMarks  Class\n",
       "count   16.000000    3.0\n",
       "mean    72.500000   11.0\n",
       "std     15.705625    1.0\n",
       "min     30.000000   10.0\n",
       "25%     77.500000   10.5\n",
       "50%     80.000000   11.0\n",
       "75%     80.000000   11.5\n",
       "max     80.000000   12.0"
      ]
     },
     "execution_count": 158,
     "metadata": {},
     "output_type": "execute_result"
    }
   ],
   "source": [
    "df2.describe()"
   ]
  },
  {
   "cell_type": "code",
   "execution_count": 127,
   "id": "d2eac249-799d-4a5f-9487-a25af66b0366",
   "metadata": {},
   "outputs": [],
   "source": [
    "mydf = pd.read_csv(\"calories.csv\")"
   ]
  },
  {
   "cell_type": "code",
   "execution_count": 133,
   "id": "5cf893c7-d94e-4294-aba3-da084837485c",
   "metadata": {},
   "outputs": [
    {
     "data": {
      "text/html": [
       "<div>\n",
       "<style scoped>\n",
       "    .dataframe tbody tr th:only-of-type {\n",
       "        vertical-align: middle;\n",
       "    }\n",
       "\n",
       "    .dataframe tbody tr th {\n",
       "        vertical-align: top;\n",
       "    }\n",
       "\n",
       "    .dataframe thead th {\n",
       "        text-align: right;\n",
       "    }\n",
       "</style>\n",
       "<table border=\"1\" class=\"dataframe\">\n",
       "  <thead>\n",
       "    <tr style=\"text-align: right;\">\n",
       "      <th></th>\n",
       "      <th>Duration</th>\n",
       "      <th>Pulse</th>\n",
       "      <th>Maxpulse</th>\n",
       "      <th>Calories</th>\n",
       "    </tr>\n",
       "  </thead>\n",
       "  <tbody>\n",
       "    <tr>\n",
       "      <th>164</th>\n",
       "      <td>60</td>\n",
       "      <td>105</td>\n",
       "      <td>140</td>\n",
       "      <td>290.8</td>\n",
       "    </tr>\n",
       "    <tr>\n",
       "      <th>165</th>\n",
       "      <td>60</td>\n",
       "      <td>110</td>\n",
       "      <td>145</td>\n",
       "      <td>300.0</td>\n",
       "    </tr>\n",
       "    <tr>\n",
       "      <th>166</th>\n",
       "      <td>60</td>\n",
       "      <td>115</td>\n",
       "      <td>145</td>\n",
       "      <td>310.2</td>\n",
       "    </tr>\n",
       "    <tr>\n",
       "      <th>167</th>\n",
       "      <td>75</td>\n",
       "      <td>120</td>\n",
       "      <td>150</td>\n",
       "      <td>320.4</td>\n",
       "    </tr>\n",
       "    <tr>\n",
       "      <th>168</th>\n",
       "      <td>75</td>\n",
       "      <td>125</td>\n",
       "      <td>150</td>\n",
       "      <td>330.4</td>\n",
       "    </tr>\n",
       "  </tbody>\n",
       "</table>\n",
       "</div>"
      ],
      "text/plain": [
       "     Duration  Pulse  Maxpulse  Calories\n",
       "164        60    105       140     290.8\n",
       "165        60    110       145     300.0\n",
       "166        60    115       145     310.2\n",
       "167        75    120       150     320.4\n",
       "168        75    125       150     330.4"
      ]
     },
     "execution_count": 133,
     "metadata": {},
     "output_type": "execute_result"
    }
   ],
   "source": [
    "mydf.tail()"
   ]
  },
  {
   "cell_type": "code",
   "execution_count": 60,
   "id": "bcddc102-42ae-45ac-bd93-d6515a7698b0",
   "metadata": {},
   "outputs": [],
   "source": [
    "pd.options.display.max_rows = 10"
   ]
  },
  {
   "cell_type": "code",
   "execution_count": 26,
   "id": "48d463f7-bf37-4f0b-9cde-513d74b86783",
   "metadata": {},
   "outputs": [
    {
     "ename": "NameError",
     "evalue": "name 'mydf' is not defined",
     "output_type": "error",
     "traceback": [
      "\u001b[1;31m---------------------------------------------------------------------------\u001b[0m",
      "\u001b[1;31mNameError\u001b[0m                                 Traceback (most recent call last)",
      "Cell \u001b[1;32mIn[26], line 1\u001b[0m\n\u001b[1;32m----> 1\u001b[0m \u001b[43mmydf\u001b[49m\n",
      "\u001b[1;31mNameError\u001b[0m: name 'mydf' is not defined"
     ]
    }
   ],
   "source": [
    "mydf"
   ]
  },
  {
   "cell_type": "code",
   "execution_count": 147,
   "id": "3ddb7617-9ecd-4883-8c61-46ecd6a6ae85",
   "metadata": {},
   "outputs": [
    {
     "data": {
      "text/plain": [
       "Duration    169.0\n",
       "Pulse       169.0\n",
       "Maxpulse    169.0\n",
       "Calories    164.0\n",
       "Name: count, dtype: float64"
      ]
     },
     "execution_count": 147,
     "metadata": {},
     "output_type": "execute_result"
    }
   ],
   "source": [
    "mydf.describe().loc[\"count\"]"
   ]
  },
  {
   "cell_type": "code",
   "execution_count": 144,
   "id": "faf88c09-a1ab-403f-b3fe-fbb78f19bdcc",
   "metadata": {},
   "outputs": [
    {
     "data": {
      "text/plain": [
       "np.float64(63.84615384615385)"
      ]
     },
     "execution_count": 144,
     "metadata": {},
     "output_type": "execute_result"
    }
   ],
   "source": [
    "mydf.Duration.mean()"
   ]
  },
  {
   "cell_type": "code",
   "execution_count": 15,
   "id": "b9939da2-8829-4030-b909-09ef5a4f3e04",
   "metadata": {},
   "outputs": [],
   "source": [
    "my_df = pd.DataFrame([[1,3,4],[5,6,7,8]],columns = [\"one\",\"two\",\"three\",\"four\"],index = [\"A\",\"B\"],dtype = float)"
   ]
  },
  {
   "cell_type": "code",
   "execution_count": 18,
   "id": "f2fe208c-c1a9-4c24-9016-39fe0b5a3d99",
   "metadata": {},
   "outputs": [
    {
     "data": {
      "text/html": [
       "<div>\n",
       "<style scoped>\n",
       "    .dataframe tbody tr th:only-of-type {\n",
       "        vertical-align: middle;\n",
       "    }\n",
       "\n",
       "    .dataframe tbody tr th {\n",
       "        vertical-align: top;\n",
       "    }\n",
       "\n",
       "    .dataframe thead th {\n",
       "        text-align: right;\n",
       "    }\n",
       "</style>\n",
       "<table border=\"1\" class=\"dataframe\">\n",
       "  <thead>\n",
       "    <tr style=\"text-align: right;\">\n",
       "      <th></th>\n",
       "      <th>one</th>\n",
       "      <th>two</th>\n",
       "      <th>three</th>\n",
       "      <th>four</th>\n",
       "    </tr>\n",
       "  </thead>\n",
       "  <tbody>\n",
       "    <tr>\n",
       "      <th>A</th>\n",
       "      <td>1</td>\n",
       "      <td>3</td>\n",
       "      <td>4.0</td>\n",
       "      <td>NaN</td>\n",
       "    </tr>\n",
       "    <tr>\n",
       "      <th>B</th>\n",
       "      <td>5</td>\n",
       "      <td>6</td>\n",
       "      <td>7.0</td>\n",
       "      <td>8.0</td>\n",
       "    </tr>\n",
       "  </tbody>\n",
       "</table>\n",
       "</div>"
      ],
      "text/plain": [
       "   one  two  three  four\n",
       "A    1    3    4.0   NaN\n",
       "B    5    6    7.0   8.0"
      ]
     },
     "execution_count": 18,
     "metadata": {},
     "output_type": "execute_result"
    }
   ],
   "source": [
    "my_df.astype({\"one\":int,\"two\":int})"
   ]
  },
  {
   "cell_type": "code",
   "execution_count": 19,
   "id": "b94a801c-5972-4a73-b23a-5f3aad48ac2e",
   "metadata": {},
   "outputs": [
    {
     "data": {
      "text/html": [
       "<div>\n",
       "<style scoped>\n",
       "    .dataframe tbody tr th:only-of-type {\n",
       "        vertical-align: middle;\n",
       "    }\n",
       "\n",
       "    .dataframe tbody tr th {\n",
       "        vertical-align: top;\n",
       "    }\n",
       "\n",
       "    .dataframe thead th {\n",
       "        text-align: right;\n",
       "    }\n",
       "</style>\n",
       "<table border=\"1\" class=\"dataframe\">\n",
       "  <thead>\n",
       "    <tr style=\"text-align: right;\">\n",
       "      <th></th>\n",
       "      <th>one</th>\n",
       "      <th>two</th>\n",
       "      <th>three</th>\n",
       "      <th>four</th>\n",
       "    </tr>\n",
       "  </thead>\n",
       "  <tbody>\n",
       "    <tr>\n",
       "      <th>A</th>\n",
       "      <td>1.0</td>\n",
       "      <td>3.0</td>\n",
       "      <td>4.0</td>\n",
       "      <td>NaN</td>\n",
       "    </tr>\n",
       "    <tr>\n",
       "      <th>B</th>\n",
       "      <td>5.0</td>\n",
       "      <td>6.0</td>\n",
       "      <td>7.0</td>\n",
       "      <td>8.0</td>\n",
       "    </tr>\n",
       "  </tbody>\n",
       "</table>\n",
       "</div>"
      ],
      "text/plain": [
       "   one  two  three  four\n",
       "A  1.0  3.0    4.0   NaN\n",
       "B  5.0  6.0    7.0   8.0"
      ]
     },
     "execution_count": 19,
     "metadata": {},
     "output_type": "execute_result"
    }
   ],
   "source": [
    "my_df"
   ]
  },
  {
   "cell_type": "code",
   "execution_count": 20,
   "id": "41915412-ad28-4b2a-a90a-2feac21c394e",
   "metadata": {},
   "outputs": [],
   "source": [
    "my_df1 = pd.DataFrame([{\"Name\":\"Corolla\",\"Company\":\"Toyota\",\"Model\":\"2010\",\"Varient\": \"GLI\"},\n",
    "                      {\"Name\":\"Corolla1\",\"Company\":\"Toyota\",\"Model\":\"2010\",\"Varient\": \"GLI\"},\n",
    "                      {\"Name\":\"Corolla2\",\"Company\":\"Toyota\",\"Model\":\"2010\",\"Varient\": \"GLI\"},\n",
    "                      {\"Name\":\"Corolla3\",\"Company\":\"Toyota\",\"Model\":\"2010\",\"Varient\": \"GLI\"},\n",
    "                      {\"Name\":\"Corolla4\",\"Company\":\"Toyota\",\"Model\":\"2010\",\"Varient\": \"GLI\"}])"
   ]
  },
  {
   "cell_type": "code",
   "execution_count": 21,
   "id": "1cddb380-6e17-4acc-8bf7-e922953c42ee",
   "metadata": {},
   "outputs": [
    {
     "data": {
      "text/html": [
       "<div>\n",
       "<style scoped>\n",
       "    .dataframe tbody tr th:only-of-type {\n",
       "        vertical-align: middle;\n",
       "    }\n",
       "\n",
       "    .dataframe tbody tr th {\n",
       "        vertical-align: top;\n",
       "    }\n",
       "\n",
       "    .dataframe thead th {\n",
       "        text-align: right;\n",
       "    }\n",
       "</style>\n",
       "<table border=\"1\" class=\"dataframe\">\n",
       "  <thead>\n",
       "    <tr style=\"text-align: right;\">\n",
       "      <th></th>\n",
       "      <th>Name</th>\n",
       "      <th>Company</th>\n",
       "      <th>Model</th>\n",
       "      <th>Varient</th>\n",
       "    </tr>\n",
       "  </thead>\n",
       "  <tbody>\n",
       "    <tr>\n",
       "      <th>0</th>\n",
       "      <td>Corolla</td>\n",
       "      <td>Toyota</td>\n",
       "      <td>2010</td>\n",
       "      <td>GLI</td>\n",
       "    </tr>\n",
       "    <tr>\n",
       "      <th>1</th>\n",
       "      <td>Corolla1</td>\n",
       "      <td>Toyota</td>\n",
       "      <td>2010</td>\n",
       "      <td>GLI</td>\n",
       "    </tr>\n",
       "    <tr>\n",
       "      <th>2</th>\n",
       "      <td>Corolla2</td>\n",
       "      <td>Toyota</td>\n",
       "      <td>2010</td>\n",
       "      <td>GLI</td>\n",
       "    </tr>\n",
       "    <tr>\n",
       "      <th>3</th>\n",
       "      <td>Corolla3</td>\n",
       "      <td>Toyota</td>\n",
       "      <td>2010</td>\n",
       "      <td>GLI</td>\n",
       "    </tr>\n",
       "    <tr>\n",
       "      <th>4</th>\n",
       "      <td>Corolla4</td>\n",
       "      <td>Toyota</td>\n",
       "      <td>2010</td>\n",
       "      <td>GLI</td>\n",
       "    </tr>\n",
       "  </tbody>\n",
       "</table>\n",
       "</div>"
      ],
      "text/plain": [
       "       Name Company Model Varient\n",
       "0   Corolla  Toyota  2010     GLI\n",
       "1  Corolla1  Toyota  2010     GLI\n",
       "2  Corolla2  Toyota  2010     GLI\n",
       "3  Corolla3  Toyota  2010     GLI\n",
       "4  Corolla4  Toyota  2010     GLI"
      ]
     },
     "execution_count": 21,
     "metadata": {},
     "output_type": "execute_result"
    }
   ],
   "source": [
    "my_df1"
   ]
  },
  {
   "cell_type": "code",
   "execution_count": 22,
   "id": "e33e2cb8-b813-4a18-a08e-4e1b216da509",
   "metadata": {},
   "outputs": [],
   "source": [
    "student = [{\"Name\":\"Ahmed\",\"Fname\":\"Ali\",\"FinalMarks\":80,\"Grade\":\"A\"},\n",
    "           {\"Name\":\"Ahmed\",\"Fname\":\"Ali\",\"FinalMarks\":80,\"Grade\":\"A\"},\n",
    "           {\"Name\":\"Ahmed\",\"Fname\":\"Ali\",\"FinalMarks\":\"Fail\",\"Grade\":\"A\"},\n",
    "           {\"Name\":\"Ahmed\",\"Fname\":\"Ali\",\"FinalMarks\":80,\"Grade\":\"A\"},\n",
    "           {\"Name\":\"Ahmed\",\"Fname\":\"Ali\",\"FinalMarks\":80,\"Grade\":\"A\"},\n",
    "          {\"Name\":\"Ahmed\",\"Fname\":\"Ali\",\"FinalMarks\":80,\"Grade\":\"A\"},\n",
    "           {\"Name\":\"Ahmed\",\"Fname\":\"Ali\",\"FinalMarks\":80,\"Grade\":\"A\"},\n",
    "           {\"Name\":\"Ahmed\",\"Fname\":\"Ali\",\"FinalMarks\":\"Fail\",\"Grade\":\"A\"},\n",
    "           {\"Name\":\"Ahmed\",\"Fname\":\"Ali\",\"FinalMarks\":30,\"Grade\":\"A\"},\n",
    "           {\"Name\":\"Ahmed\",\"Fname\":\"Ali\",\"FinalMarks\":40,\"Grade\":\"A\"},\n",
    "          {\"Name\":\"Ahmed\",\"Fname\":\"Ali\",\"FinalMarks\":80,\"Grade\":\"A\"},\n",
    "           {\"Name\":\"Ahmed\",\"Fname\":\"Ali\",\"FinalMarks\":60,\"Grade\":\"A\"},\n",
    "           {\"Name\":\"Ahmed\",\"Fname\":\"Ali\",\"FinalMarks\":\"Fail\",\"Grade\":\"A\"},\n",
    "           {\"Name\":\"Ahmed\",\"Fname\":\"Ali\",\"FinalMarks\":70,\"Grade\":\"A\"},\n",
    "           {\"Name\":\"Ahmed\",\"Fname\":\"Ali\",\"FinalMarks\":80,\"Grade\":\"A\"},\n",
    "           {\"Name\":\"Ahmed\",\"Fname\":\"Ali\",\"FinalMarks\":80,\"Grade\":\"A\"},\n",
    "           {\"Name\":\"Ahmed\",\"Fname\":\"Ali\",\"FinalMarks\":80,\"Grade\":\"A\"},\n",
    "           {\"Name\":\"Ahmed\",\"Fname\":\"Ali\",\"FinalMarks\":\"Fail\",\"Grade\":\"A\"},\n",
    "           {\"Name\":\"Ahmed\",\"Fname\":\"Ali\",\"FinalMarks\":80,\"Grade\":\"A\"},\n",
    "           {\"Name\":\"Ahmed\",\"Fname\":\"Ali\",\"FinalMarks\":80,\"Grade\":\"A\"}]"
   ]
  },
  {
   "cell_type": "code",
   "execution_count": 51,
   "id": "09bf21fb-fa9a-470c-846b-1e83dc8ee125",
   "metadata": {},
   "outputs": [
    {
     "data": {
      "text/html": [
       "<div>\n",
       "<style scoped>\n",
       "    .dataframe tbody tr th:only-of-type {\n",
       "        vertical-align: middle;\n",
       "    }\n",
       "\n",
       "    .dataframe tbody tr th {\n",
       "        vertical-align: top;\n",
       "    }\n",
       "\n",
       "    .dataframe thead th {\n",
       "        text-align: right;\n",
       "    }\n",
       "</style>\n",
       "<table border=\"1\" class=\"dataframe\">\n",
       "  <thead>\n",
       "    <tr style=\"text-align: right;\">\n",
       "      <th></th>\n",
       "      <th>Name</th>\n",
       "      <th>Fname</th>\n",
       "      <th>FinalMarks</th>\n",
       "      <th>Grade</th>\n",
       "    </tr>\n",
       "  </thead>\n",
       "  <tbody>\n",
       "    <tr>\n",
       "      <th>0</th>\n",
       "      <td>Ahmed</td>\n",
       "      <td>Ali</td>\n",
       "      <td>80</td>\n",
       "      <td>A</td>\n",
       "    </tr>\n",
       "    <tr>\n",
       "      <th>1</th>\n",
       "      <td>Ahmed</td>\n",
       "      <td>Ali</td>\n",
       "      <td>80</td>\n",
       "      <td>A</td>\n",
       "    </tr>\n",
       "    <tr>\n",
       "      <th>...</th>\n",
       "      <td>...</td>\n",
       "      <td>...</td>\n",
       "      <td>...</td>\n",
       "      <td>...</td>\n",
       "    </tr>\n",
       "    <tr>\n",
       "      <th>18</th>\n",
       "      <td>Ahmed</td>\n",
       "      <td>Ali</td>\n",
       "      <td>80</td>\n",
       "      <td>A</td>\n",
       "    </tr>\n",
       "    <tr>\n",
       "      <th>19</th>\n",
       "      <td>Ahmed</td>\n",
       "      <td>Ali</td>\n",
       "      <td>80</td>\n",
       "      <td>A</td>\n",
       "    </tr>\n",
       "  </tbody>\n",
       "</table>\n",
       "<p>20 rows × 4 columns</p>\n",
       "</div>"
      ],
      "text/plain": [
       "     Name Fname FinalMarks Grade\n",
       "0   Ahmed   Ali         80     A\n",
       "1   Ahmed   Ali         80     A\n",
       "..    ...   ...        ...   ...\n",
       "18  Ahmed   Ali         80     A\n",
       "19  Ahmed   Ali         80     A\n",
       "\n",
       "[20 rows x 4 columns]"
      ]
     },
     "execution_count": 51,
     "metadata": {},
     "output_type": "execute_result"
    }
   ],
   "source": [
    "student_df = pd.DataFrame(student)\n",
    "student_df"
   ]
  },
  {
   "cell_type": "code",
   "execution_count": 52,
   "id": "5f8efc90-a579-4b0a-aa0c-8353ffb58404",
   "metadata": {},
   "outputs": [
    {
     "data": {
      "text/plain": [
       "(20, 4)"
      ]
     },
     "execution_count": 52,
     "metadata": {},
     "output_type": "execute_result"
    }
   ],
   "source": [
    "student_df.shape"
   ]
  },
  {
   "cell_type": "code",
   "execution_count": 53,
   "id": "711413f1-395d-4951-a03f-0673fae86412",
   "metadata": {},
   "outputs": [],
   "source": [
    "student_df[\"FinalMarks\"] = pd.to_numeric(student_df[\"FinalMarks\"], errors= \"coerce\")"
   ]
  },
  {
   "cell_type": "code",
   "execution_count": 61,
   "id": "57d78d56-5bf0-4ef7-b7b1-29ced275be41",
   "metadata": {},
   "outputs": [
    {
     "data": {
      "text/html": [
       "<div>\n",
       "<style scoped>\n",
       "    .dataframe tbody tr th:only-of-type {\n",
       "        vertical-align: middle;\n",
       "    }\n",
       "\n",
       "    .dataframe tbody tr th {\n",
       "        vertical-align: top;\n",
       "    }\n",
       "\n",
       "    .dataframe thead th {\n",
       "        text-align: right;\n",
       "    }\n",
       "</style>\n",
       "<table border=\"1\" class=\"dataframe\">\n",
       "  <thead>\n",
       "    <tr style=\"text-align: right;\">\n",
       "      <th></th>\n",
       "      <th>FinalMarks</th>\n",
       "    </tr>\n",
       "  </thead>\n",
       "  <tbody>\n",
       "    <tr>\n",
       "      <th>count</th>\n",
       "      <td>16.000000</td>\n",
       "    </tr>\n",
       "    <tr>\n",
       "      <th>mean</th>\n",
       "      <td>72.500000</td>\n",
       "    </tr>\n",
       "    <tr>\n",
       "      <th>std</th>\n",
       "      <td>15.705625</td>\n",
       "    </tr>\n",
       "    <tr>\n",
       "      <th>min</th>\n",
       "      <td>30.000000</td>\n",
       "    </tr>\n",
       "    <tr>\n",
       "      <th>25%</th>\n",
       "      <td>77.500000</td>\n",
       "    </tr>\n",
       "    <tr>\n",
       "      <th>50%</th>\n",
       "      <td>80.000000</td>\n",
       "    </tr>\n",
       "    <tr>\n",
       "      <th>75%</th>\n",
       "      <td>80.000000</td>\n",
       "    </tr>\n",
       "    <tr>\n",
       "      <th>max</th>\n",
       "      <td>80.000000</td>\n",
       "    </tr>\n",
       "  </tbody>\n",
       "</table>\n",
       "</div>"
      ],
      "text/plain": [
       "       FinalMarks\n",
       "count   16.000000\n",
       "mean    72.500000\n",
       "std     15.705625\n",
       "min     30.000000\n",
       "25%     77.500000\n",
       "50%     80.000000\n",
       "75%     80.000000\n",
       "max     80.000000"
      ]
     },
     "execution_count": 61,
     "metadata": {},
     "output_type": "execute_result"
    }
   ],
   "source": [
    "student_df.describe()"
   ]
  },
  {
   "cell_type": "code",
   "execution_count": 62,
   "id": "932f9186-9097-49b0-a3db-d613d3bacc51",
   "metadata": {},
   "outputs": [],
   "source": [
    "customers = pd.read_csv(\"week 17 dataset/customers.csv\")"
   ]
  },
  {
   "cell_type": "code",
   "execution_count": 67,
   "id": "65acbc12-9fef-475c-9a39-97634dcf6f49",
   "metadata": {},
   "outputs": [
    {
     "data": {
      "text/html": [
       "<div>\n",
       "<style scoped>\n",
       "    .dataframe tbody tr th:only-of-type {\n",
       "        vertical-align: middle;\n",
       "    }\n",
       "\n",
       "    .dataframe tbody tr th {\n",
       "        vertical-align: top;\n",
       "    }\n",
       "\n",
       "    .dataframe thead th {\n",
       "        text-align: right;\n",
       "    }\n",
       "</style>\n",
       "<table border=\"1\" class=\"dataframe\">\n",
       "  <thead>\n",
       "    <tr style=\"text-align: right;\">\n",
       "      <th></th>\n",
       "      <th>customer_id</th>\n",
       "      <th>name</th>\n",
       "      <th>age</th>\n",
       "      <th>gender</th>\n",
       "      <th>city</th>\n",
       "    </tr>\n",
       "  </thead>\n",
       "  <tbody>\n",
       "    <tr>\n",
       "      <th>490</th>\n",
       "      <td>C0491</td>\n",
       "      <td>Tyler</td>\n",
       "      <td>33</td>\n",
       "      <td>Female</td>\n",
       "      <td>East Samanthaborough</td>\n",
       "    </tr>\n",
       "    <tr>\n",
       "      <th>491</th>\n",
       "      <td>C0492</td>\n",
       "      <td>Douglas</td>\n",
       "      <td>19</td>\n",
       "      <td>Male</td>\n",
       "      <td>Jonathanport</td>\n",
       "    </tr>\n",
       "    <tr>\n",
       "      <th>492</th>\n",
       "      <td>C0493</td>\n",
       "      <td>Kristopher</td>\n",
       "      <td>45</td>\n",
       "      <td>Female</td>\n",
       "      <td>Brownfort</td>\n",
       "    </tr>\n",
       "    <tr>\n",
       "      <th>493</th>\n",
       "      <td>C0494</td>\n",
       "      <td>Kristi</td>\n",
       "      <td>49</td>\n",
       "      <td>Female</td>\n",
       "      <td>South Jamie</td>\n",
       "    </tr>\n",
       "    <tr>\n",
       "      <th>494</th>\n",
       "      <td>C0495</td>\n",
       "      <td>Austin</td>\n",
       "      <td>44</td>\n",
       "      <td>Male</td>\n",
       "      <td>Mikeside</td>\n",
       "    </tr>\n",
       "    <tr>\n",
       "      <th>495</th>\n",
       "      <td>C0496</td>\n",
       "      <td>Stephanie</td>\n",
       "      <td>37</td>\n",
       "      <td>Male</td>\n",
       "      <td>Santosport</td>\n",
       "    </tr>\n",
       "    <tr>\n",
       "      <th>496</th>\n",
       "      <td>C0497</td>\n",
       "      <td>Susan</td>\n",
       "      <td>41</td>\n",
       "      <td>Male</td>\n",
       "      <td>Annaside</td>\n",
       "    </tr>\n",
       "    <tr>\n",
       "      <th>497</th>\n",
       "      <td>C0498</td>\n",
       "      <td>Spencer</td>\n",
       "      <td>29</td>\n",
       "      <td>Female</td>\n",
       "      <td>Harrisside</td>\n",
       "    </tr>\n",
       "    <tr>\n",
       "      <th>498</th>\n",
       "      <td>C0499</td>\n",
       "      <td>Rachel</td>\n",
       "      <td>52</td>\n",
       "      <td>Male</td>\n",
       "      <td>Anthonymouth</td>\n",
       "    </tr>\n",
       "    <tr>\n",
       "      <th>499</th>\n",
       "      <td>C0500</td>\n",
       "      <td>Jasmine</td>\n",
       "      <td>50</td>\n",
       "      <td>Male</td>\n",
       "      <td>North Mark</td>\n",
       "    </tr>\n",
       "  </tbody>\n",
       "</table>\n",
       "</div>"
      ],
      "text/plain": [
       "    customer_id        name  age  gender                  city\n",
       "490       C0491       Tyler   33  Female  East Samanthaborough\n",
       "491       C0492     Douglas   19    Male          Jonathanport\n",
       "492       C0493  Kristopher   45  Female             Brownfort\n",
       "493       C0494      Kristi   49  Female           South Jamie\n",
       "494       C0495      Austin   44    Male              Mikeside\n",
       "495       C0496   Stephanie   37    Male            Santosport\n",
       "496       C0497       Susan   41    Male              Annaside\n",
       "497       C0498     Spencer   29  Female            Harrisside\n",
       "498       C0499      Rachel   52    Male          Anthonymouth\n",
       "499       C0500     Jasmine   50    Male            North Mark"
      ]
     },
     "execution_count": 67,
     "metadata": {},
     "output_type": "execute_result"
    }
   ],
   "source": [
    "customers.tail(10)"
   ]
  },
  {
   "cell_type": "code",
   "execution_count": 97,
   "id": "da8186a8-3f82-46a9-a2da-4383e96dd40c",
   "metadata": {},
   "outputs": [
    {
     "data": {
      "text/html": [
       "<div>\n",
       "<style scoped>\n",
       "    .dataframe tbody tr th:only-of-type {\n",
       "        vertical-align: middle;\n",
       "    }\n",
       "\n",
       "    .dataframe tbody tr th {\n",
       "        vertical-align: top;\n",
       "    }\n",
       "\n",
       "    .dataframe thead th {\n",
       "        text-align: right;\n",
       "    }\n",
       "</style>\n",
       "<table border=\"1\" class=\"dataframe\">\n",
       "  <thead>\n",
       "    <tr style=\"text-align: right;\">\n",
       "      <th></th>\n",
       "      <th>age</th>\n",
       "    </tr>\n",
       "  </thead>\n",
       "  <tbody>\n",
       "    <tr>\n",
       "      <th>count</th>\n",
       "      <td>500.000000</td>\n",
       "    </tr>\n",
       "    <tr>\n",
       "      <th>mean</th>\n",
       "      <td>41.278000</td>\n",
       "    </tr>\n",
       "    <tr>\n",
       "      <th>std</th>\n",
       "      <td>13.389072</td>\n",
       "    </tr>\n",
       "    <tr>\n",
       "      <th>min</th>\n",
       "      <td>18.000000</td>\n",
       "    </tr>\n",
       "    <tr>\n",
       "      <th>25%</th>\n",
       "      <td>30.000000</td>\n",
       "    </tr>\n",
       "    <tr>\n",
       "      <th>50%</th>\n",
       "      <td>42.000000</td>\n",
       "    </tr>\n",
       "    <tr>\n",
       "      <th>75%</th>\n",
       "      <td>52.000000</td>\n",
       "    </tr>\n",
       "    <tr>\n",
       "      <th>max</th>\n",
       "      <td>64.000000</td>\n",
       "    </tr>\n",
       "  </tbody>\n",
       "</table>\n",
       "</div>"
      ],
      "text/plain": [
       "              age\n",
       "count  500.000000\n",
       "mean    41.278000\n",
       "std     13.389072\n",
       "min     18.000000\n",
       "25%     30.000000\n",
       "50%     42.000000\n",
       "75%     52.000000\n",
       "max     64.000000"
      ]
     },
     "execution_count": 97,
     "metadata": {},
     "output_type": "execute_result"
    }
   ],
   "source": [
    "d = customers.describe()\n",
    "d"
   ]
  },
  {
   "cell_type": "code",
   "execution_count": 102,
   "id": "e248beba-852f-437a-8fac-b59f2a8d05f5",
   "metadata": {},
   "outputs": [
    {
     "data": {
      "text/plain": [
       "age    42.0\n",
       "Name: 50%, dtype: float64"
      ]
     },
     "execution_count": 102,
     "metadata": {},
     "output_type": "execute_result"
    }
   ],
   "source": [
    "d.loc[\"50%\"]"
   ]
  },
  {
   "cell_type": "code",
   "execution_count": null,
   "id": "92b1fa31-d3f9-41e8-bacc-368efc6a3835",
   "metadata": {},
   "outputs": [],
   "source": []
  }
 ],
 "metadata": {
  "kernelspec": {
   "display_name": "Python 3 (ipykernel)",
   "language": "python",
   "name": "python3"
  },
  "language_info": {
   "codemirror_mode": {
    "name": "ipython",
    "version": 3
   },
   "file_extension": ".py",
   "mimetype": "text/x-python",
   "name": "python",
   "nbconvert_exporter": "python",
   "pygments_lexer": "ipython3",
   "version": "3.11.3"
  }
 },
 "nbformat": 4,
 "nbformat_minor": 5
}
