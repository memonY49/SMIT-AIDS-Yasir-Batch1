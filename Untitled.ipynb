{
 "cells": [
  {
   "cell_type": "code",
   "execution_count": 2,
   "id": "deb9ad69-a29e-4bb5-96d9-f4c1876fef6d",
   "metadata": {},
   "outputs": [],
   "source": [
    "import numpy as np\n",
    "import pandas as pd"
   ]
  },
  {
   "cell_type": "code",
   "execution_count": 106,
   "id": "9e32d9f1-84d3-4b42-ad95-d313a0da3fc7",
   "metadata": {},
   "outputs": [],
   "source": [
    "a =  [[1,2,3,4,5],[2,3,5,7,8]]"
   ]
  },
  {
   "cell_type": "code",
   "execution_count": 107,
   "id": "c9837285-9ced-48b4-84e1-977f6307338b",
   "metadata": {},
   "outputs": [],
   "source": [
    "myarray = np.array(a)"
   ]
  },
  {
   "cell_type": "code",
   "execution_count": 108,
   "id": "7686ef9f-cdef-4f5f-90e8-4781a09d896f",
   "metadata": {},
   "outputs": [
    {
     "data": {
      "text/plain": [
       "array([[1, 2, 3, 4, 5],\n",
       "       [2, 3, 5, 7, 8]])"
      ]
     },
     "execution_count": 108,
     "metadata": {},
     "output_type": "execute_result"
    }
   ],
   "source": [
    "myarray"
   ]
  },
  {
   "cell_type": "code",
   "execution_count": 122,
   "id": "5151f60e-91f7-4436-85ae-4664254f78ac",
   "metadata": {},
   "outputs": [],
   "source": [
    "df = pd.DataFrame(a,columns = [\"a\",\"b\",\"c\",\"d\",\"e\"], index = [\"first\",\"second\"])"
   ]
  },
  {
   "cell_type": "code",
   "execution_count": 125,
   "id": "a6d8362d-a0bc-4492-b353-01e96e5d33dc",
   "metadata": {},
   "outputs": [],
   "source": [
    "df = df.astype({\"a\": str,\"b\":float,\"c\":int,\"d\":float})"
   ]
  },
  {
   "cell_type": "code",
   "execution_count": 126,
   "id": "65f8a1a0-ba7a-48b7-9f4a-1ce9f5516644",
   "metadata": {},
   "outputs": [
    {
     "name": "stdout",
     "output_type": "stream",
     "text": [
      "<class 'pandas.core.frame.DataFrame'>\n",
      "Index: 2 entries, first to second\n",
      "Data columns (total 5 columns):\n",
      " #   Column  Non-Null Count  Dtype  \n",
      "---  ------  --------------  -----  \n",
      " 0   a       2 non-null      object \n",
      " 1   b       2 non-null      float64\n",
      " 2   c       2 non-null      int64  \n",
      " 3   d       2 non-null      float64\n",
      " 4   e       2 non-null      int64  \n",
      "dtypes: float64(2), int64(2), object(1)\n",
      "memory usage: 96.0+ bytes\n",
      "None\n"
     ]
    }
   ],
   "source": [
    "print(df.info())"
   ]
  },
  {
   "cell_type": "code",
   "execution_count": 152,
   "id": "0c2f2947-5af5-4791-9fb3-beb8da0b89a3",
   "metadata": {},
   "outputs": [],
   "source": [
    "student = [{\"Name\":\"Ahmed\",\"Fname\":\"Ali\",\"FinalMarks\":80,\"Grade\":\"A\"},\n",
    "           {\"Name\":\"Ahmed\",\"Fname\":\"Ali\",\"FinalMarks\":80,\"Grade\":\"A\"},\n",
    "           {\"Name\":\"Ahmed\",\"Fname\":\"Ali\",\"FinalMarks\":\"Fail\",\"Grade\":\"A\"},\n",
    "           {\"Name\":\"Ahmed\",\"Fname\":\"Ali\",\"FinalMarks\":80,\"Grade\":\"A\"},\n",
    "           {\"Name\":\"Ahmed\",\"Fname\":\"Ali\",\"FinalMarks\":80,\"Grade\":\"A\"},\n",
    "          {\"Name\":\"Ahmed\",\"Fname\":\"Ali\",\"FinalMarks\":80,\"Grade\":\"A\"},\n",
    "           {\"Name\":\"Ahmed\",\"Fname\":\"Ali\",\"FinalMarks\":80,\"Grade\":\"A\"},\n",
    "           {\"Name\":\"Ahmed\",\"Fname\":\"Ali\",\"FinalMarks\":\"Fail\",\"Grade\":\"A\"},\n",
    "           {\"Name\":\"Ahmed\",\"Fname\":\"Ali\",\"FinalMarks\":30,\"Grade\":\"A\"},\n",
    "           {\"Name\":\"Ahmed\",\"Fname\":\"Ali\",\"FinalMarks\":40,\"Grade\":\"A\"},\n",
    "          {\"Name\":\"Ahmed\",\"Fname\":\"Ali\",\"FinalMarks\":80,\"Grade\":\"A\"},\n",
    "           {\"Name\":\"Ahmed\",\"Fname\":\"Ali\",\"FinalMarks\":60,\"Grade\":\"A\"},\n",
    "           {\"Name\":\"Ahmed\",\"Fname\":\"Ali\",\"FinalMarks\":\"Fail\",\"Grade\":\"A\"},\n",
    "           {\"Name\":\"Ahmed\",\"Fname\":\"Ali\",\"FinalMarks\":70,\"Grade\":\"A\"},\n",
    "           {\"Name\":\"Ahmed\",\"Fname\":\"Ali\",\"FinalMarks\":80,\"Grade\":\"A\"},{\"Name\":\"Ahmed\",\"Fname\":\"Ali\",\"FinalMarks\":80,\"Grade\":\"A\"},\n",
    "           {\"Name\":\"Ahmed\",\"Fname\":\"Ali\",\"FinalMarks\":80,\"Grade\":\"A\"},\n",
    "           {\"Name\":\"Ahmed\",\"Fname\":\"Ali\",\"FinalMarks\":\"Fail\",\"Grade\":\"A\"},\n",
    "           {\"Name\":\"Ahmed\",\"Fname\":\"Ali\",\"FinalMarks\":80,\"Grade\":\"A\"},\n",
    "           {\"Name\":\"Ahmed\",\"Fname\":\"Ali\",\"FinalMarks\":80,\"Grade\":\"A\"}]"
   ]
  },
  {
   "cell_type": "code",
   "execution_count": 153,
   "id": "c5d8a976-b2bd-43a9-a70d-961330416691",
   "metadata": {},
   "outputs": [],
   "source": [
    "df2 = pd.DataFrame(student)"
   ]
  },
  {
   "cell_type": "code",
   "execution_count": 98,
   "id": "e4684d6f-0fbe-4b89-a095-e69280545d72",
   "metadata": {},
   "outputs": [
    {
     "data": {
      "text/html": [
       "<div>\n",
       "<style scoped>\n",
       "    .dataframe tbody tr th:only-of-type {\n",
       "        vertical-align: middle;\n",
       "    }\n",
       "\n",
       "    .dataframe tbody tr th {\n",
       "        vertical-align: top;\n",
       "    }\n",
       "\n",
       "    .dataframe thead th {\n",
       "        text-align: right;\n",
       "    }\n",
       "</style>\n",
       "<table border=\"1\" class=\"dataframe\">\n",
       "  <thead>\n",
       "    <tr style=\"text-align: right;\">\n",
       "      <th></th>\n",
       "      <th>Name</th>\n",
       "      <th>Fname</th>\n",
       "      <th>FinalMarks</th>\n",
       "      <th>Grade</th>\n",
       "    </tr>\n",
       "  </thead>\n",
       "  <tbody>\n",
       "    <tr>\n",
       "      <th>0</th>\n",
       "      <td>Ahmed</td>\n",
       "      <td>Ali</td>\n",
       "      <td>80</td>\n",
       "      <td>A</td>\n",
       "    </tr>\n",
       "    <tr>\n",
       "      <th>1</th>\n",
       "      <td>Ahmed</td>\n",
       "      <td>Ali</td>\n",
       "      <td>80</td>\n",
       "      <td>A</td>\n",
       "    </tr>\n",
       "    <tr>\n",
       "      <th>2</th>\n",
       "      <td>Ahmed</td>\n",
       "      <td>Ali</td>\n",
       "      <td>Fail</td>\n",
       "      <td>A</td>\n",
       "    </tr>\n",
       "    <tr>\n",
       "      <th>3</th>\n",
       "      <td>Ahmed</td>\n",
       "      <td>Ali</td>\n",
       "      <td>80</td>\n",
       "      <td>A</td>\n",
       "    </tr>\n",
       "    <tr>\n",
       "      <th>4</th>\n",
       "      <td>Ahmed</td>\n",
       "      <td>Ali</td>\n",
       "      <td>80</td>\n",
       "      <td>A</td>\n",
       "    </tr>\n",
       "  </tbody>\n",
       "</table>\n",
       "</div>"
      ],
      "text/plain": [
       "    Name Fname FinalMarks Grade\n",
       "0  Ahmed   Ali         80     A\n",
       "1  Ahmed   Ali         80     A\n",
       "2  Ahmed   Ali       Fail     A\n",
       "3  Ahmed   Ali         80     A\n",
       "4  Ahmed   Ali         80     A"
      ]
     },
     "execution_count": 98,
     "metadata": {},
     "output_type": "execute_result"
    }
   ],
   "source": [
    "df2"
   ]
  },
  {
   "cell_type": "code",
   "execution_count": 81,
   "id": "9a17a63f-58d3-45a6-bd9b-a7210a01f872",
   "metadata": {},
   "outputs": [
    {
     "name": "stdout",
     "output_type": "stream",
     "text": [
      "<class 'pandas.core.frame.DataFrame'>\n",
      "RangeIndex: 5 entries, 0 to 4\n",
      "Data columns (total 4 columns):\n",
      " #   Column      Non-Null Count  Dtype \n",
      "---  ------      --------------  ----- \n",
      " 0   Name        5 non-null      object\n",
      " 1   Fname       5 non-null      object\n",
      " 2   FinalMarks  5 non-null      object\n",
      " 3   Grade       5 non-null      object\n",
      "dtypes: object(4)\n",
      "memory usage: 292.0+ bytes\n"
     ]
    }
   ],
   "source": [
    "df2.info()"
   ]
  },
  {
   "cell_type": "code",
   "execution_count": 91,
   "id": "00770d1b-1184-4de9-9102-91b6f1181d5b",
   "metadata": {},
   "outputs": [
    {
     "data": {
      "text/plain": [
       "\u001b[1;31mSignature:\u001b[0m\n",
       "\u001b[0mpd\u001b[0m\u001b[1;33m.\u001b[0m\u001b[0mto_numeric\u001b[0m\u001b[1;33m(\u001b[0m\u001b[1;33m\n",
       "\u001b[0m    \u001b[0marg\u001b[0m\u001b[1;33m,\u001b[0m\u001b[1;33m\n",
       "\u001b[0m    \u001b[0merrors\u001b[0m\u001b[1;33m:\u001b[0m \u001b[1;34m'DateTimeErrorChoices'\u001b[0m \u001b[1;33m=\u001b[0m \u001b[1;34m'raise'\u001b[0m\u001b[1;33m,\u001b[0m\u001b[1;33m\n",
       "\u001b[0m    \u001b[0mdowncast\u001b[0m\u001b[1;33m:\u001b[0m \u001b[1;34m\"Literal['integer', 'signed', 'unsigned', 'float'] | None\"\u001b[0m \u001b[1;33m=\u001b[0m \u001b[1;32mNone\u001b[0m\u001b[1;33m,\u001b[0m\u001b[1;33m\n",
       "\u001b[0m    \u001b[0mdtype_backend\u001b[0m\u001b[1;33m:\u001b[0m \u001b[1;34m'DtypeBackend | lib.NoDefault'\u001b[0m \u001b[1;33m=\u001b[0m \u001b[1;33m<\u001b[0m\u001b[0mno_default\u001b[0m\u001b[1;33m>\u001b[0m\u001b[1;33m,\u001b[0m\u001b[1;33m\n",
       "\u001b[0m\u001b[1;33m)\u001b[0m\u001b[1;33m\u001b[0m\u001b[1;33m\u001b[0m\u001b[0m\n",
       "\u001b[1;31mDocstring:\u001b[0m\n",
       "Convert argument to a numeric type.\n",
       "\n",
       "The default return dtype is `float64` or `int64`\n",
       "depending on the data supplied. Use the `downcast` parameter\n",
       "to obtain other dtypes.\n",
       "\n",
       "Please note that precision loss may occur if really large numbers\n",
       "are passed in. Due to the internal limitations of `ndarray`, if\n",
       "numbers smaller than `-9223372036854775808` (np.iinfo(np.int64).min)\n",
       "or larger than `18446744073709551615` (np.iinfo(np.uint64).max) are\n",
       "passed in, it is very likely they will be converted to float so that\n",
       "they can be stored in an `ndarray`. These warnings apply similarly to\n",
       "`Series` since it internally leverages `ndarray`.\n",
       "\n",
       "Parameters\n",
       "----------\n",
       "arg : scalar, list, tuple, 1-d array, or Series\n",
       "    Argument to be converted.\n",
       "errors : {'ignore', 'raise', 'coerce'}, default 'raise'\n",
       "    - If 'raise', then invalid parsing will raise an exception.\n",
       "    - If 'coerce', then invalid parsing will be set as NaN.\n",
       "    - If 'ignore', then invalid parsing will return the input.\n",
       "\n",
       "    .. versionchanged:: 2.2\n",
       "\n",
       "    \"ignore\" is deprecated. Catch exceptions explicitly instead.\n",
       "\n",
       "downcast : str, default None\n",
       "    Can be 'integer', 'signed', 'unsigned', or 'float'.\n",
       "    If not None, and if the data has been successfully cast to a\n",
       "    numerical dtype (or if the data was numeric to begin with),\n",
       "    downcast that resulting data to the smallest numerical dtype\n",
       "    possible according to the following rules:\n",
       "\n",
       "    - 'integer' or 'signed': smallest signed int dtype (min.: np.int8)\n",
       "    - 'unsigned': smallest unsigned int dtype (min.: np.uint8)\n",
       "    - 'float': smallest float dtype (min.: np.float32)\n",
       "\n",
       "    As this behaviour is separate from the core conversion to\n",
       "    numeric values, any errors raised during the downcasting\n",
       "    will be surfaced regardless of the value of the 'errors' input.\n",
       "\n",
       "    In addition, downcasting will only occur if the size\n",
       "    of the resulting data's dtype is strictly larger than\n",
       "    the dtype it is to be cast to, so if none of the dtypes\n",
       "    checked satisfy that specification, no downcasting will be\n",
       "    performed on the data.\n",
       "dtype_backend : {'numpy_nullable', 'pyarrow'}, default 'numpy_nullable'\n",
       "    Back-end data type applied to the resultant :class:`DataFrame`\n",
       "    (still experimental). Behaviour is as follows:\n",
       "\n",
       "    * ``\"numpy_nullable\"``: returns nullable-dtype-backed :class:`DataFrame`\n",
       "      (default).\n",
       "    * ``\"pyarrow\"``: returns pyarrow-backed nullable :class:`ArrowDtype`\n",
       "      DataFrame.\n",
       "\n",
       "    .. versionadded:: 2.0\n",
       "\n",
       "Returns\n",
       "-------\n",
       "ret\n",
       "    Numeric if parsing succeeded.\n",
       "    Return type depends on input.  Series if Series, otherwise ndarray.\n",
       "\n",
       "See Also\n",
       "--------\n",
       "DataFrame.astype : Cast argument to a specified dtype.\n",
       "to_datetime : Convert argument to datetime.\n",
       "to_timedelta : Convert argument to timedelta.\n",
       "numpy.ndarray.astype : Cast a numpy array to a specified type.\n",
       "DataFrame.convert_dtypes : Convert dtypes.\n",
       "\n",
       "Examples\n",
       "--------\n",
       "Take separate series and convert to numeric, coercing when told to\n",
       "\n",
       ">>> s = pd.Series(['1.0', '2', -3])\n",
       ">>> pd.to_numeric(s)\n",
       "0    1.0\n",
       "1    2.0\n",
       "2   -3.0\n",
       "dtype: float64\n",
       ">>> pd.to_numeric(s, downcast='float')\n",
       "0    1.0\n",
       "1    2.0\n",
       "2   -3.0\n",
       "dtype: float32\n",
       ">>> pd.to_numeric(s, downcast='signed')\n",
       "0    1\n",
       "1    2\n",
       "2   -3\n",
       "dtype: int8\n",
       ">>> s = pd.Series(['apple', '1.0', '2', -3])\n",
       ">>> pd.to_numeric(s, errors='coerce')\n",
       "0    NaN\n",
       "1    1.0\n",
       "2    2.0\n",
       "3   -3.0\n",
       "dtype: float64\n",
       "\n",
       "Downcasting of nullable integer and floating dtypes is supported:\n",
       "\n",
       ">>> s = pd.Series([1, 2, 3], dtype=\"Int64\")\n",
       ">>> pd.to_numeric(s, downcast=\"integer\")\n",
       "0    1\n",
       "1    2\n",
       "2    3\n",
       "dtype: Int8\n",
       ">>> s = pd.Series([1.0, 2.1, 3.0], dtype=\"Float64\")\n",
       ">>> pd.to_numeric(s, downcast=\"float\")\n",
       "0    1.0\n",
       "1    2.1\n",
       "2    3.0\n",
       "dtype: Float32\n",
       "\u001b[1;31mFile:\u001b[0m      c:\\users\\memon\\appdata\\local\\programs\\python\\python311\\lib\\site-packages\\pandas\\core\\tools\\numeric.py\n",
       "\u001b[1;31mType:\u001b[0m      function"
      ]
     },
     "metadata": {},
     "output_type": "display_data"
    }
   ],
   "source": [
    "# df2[\"FinalMarks\"] = df2[\"FinalMarks\"].astype(float)\n",
    "df2[\"FinalMarks\"] = pd.to_numeric(df2[\"FinalMarks\"], errors = 'coerce')\n",
    "pd.to_numeric?"
   ]
  },
  {
   "cell_type": "code",
   "execution_count": 88,
   "id": "fc21de0e-b5f0-4bee-b6e6-83b94beb8c5a",
   "metadata": {},
   "outputs": [
    {
     "name": "stdout",
     "output_type": "stream",
     "text": [
      "<class 'pandas.core.frame.DataFrame'>\n",
      "RangeIndex: 5 entries, 0 to 4\n",
      "Data columns (total 4 columns):\n",
      " #   Column      Non-Null Count  Dtype  \n",
      "---  ------      --------------  -----  \n",
      " 0   Name        5 non-null      object \n",
      " 1   Fname       5 non-null      object \n",
      " 2   FinalMarks  4 non-null      float64\n",
      " 3   Grade       5 non-null      object \n",
      "dtypes: float64(1), object(3)\n",
      "memory usage: 292.0+ bytes\n"
     ]
    }
   ],
   "source": [
    "df2.info()"
   ]
  },
  {
   "cell_type": "code",
   "execution_count": 103,
   "id": "c4e921ff-e5e1-4b4f-9714-396c7427f000",
   "metadata": {},
   "outputs": [
    {
     "data": {
      "text/html": [
       "<div>\n",
       "<style scoped>\n",
       "    .dataframe tbody tr th:only-of-type {\n",
       "        vertical-align: middle;\n",
       "    }\n",
       "\n",
       "    .dataframe tbody tr th {\n",
       "        vertical-align: top;\n",
       "    }\n",
       "\n",
       "    .dataframe thead th {\n",
       "        text-align: right;\n",
       "    }\n",
       "</style>\n",
       "<table border=\"1\" class=\"dataframe\">\n",
       "  <thead>\n",
       "    <tr style=\"text-align: right;\">\n",
       "      <th></th>\n",
       "      <th>Name</th>\n",
       "      <th>Fname</th>\n",
       "      <th>FinalMarks</th>\n",
       "      <th>Grade</th>\n",
       "    </tr>\n",
       "  </thead>\n",
       "  <tbody>\n",
       "    <tr>\n",
       "      <th>0</th>\n",
       "      <td>Ahmed</td>\n",
       "      <td>Ali</td>\n",
       "      <td>80</td>\n",
       "      <td>A</td>\n",
       "    </tr>\n",
       "    <tr>\n",
       "      <th>1</th>\n",
       "      <td>Ahmed</td>\n",
       "      <td>Ali</td>\n",
       "      <td>80</td>\n",
       "      <td>A</td>\n",
       "    </tr>\n",
       "    <tr>\n",
       "      <th>2</th>\n",
       "      <td>Ahmed</td>\n",
       "      <td>Ali</td>\n",
       "      <td>Fail</td>\n",
       "      <td>A</td>\n",
       "    </tr>\n",
       "    <tr>\n",
       "      <th>3</th>\n",
       "      <td>Ahmed</td>\n",
       "      <td>Ali</td>\n",
       "      <td>80</td>\n",
       "      <td>A</td>\n",
       "    </tr>\n",
       "    <tr>\n",
       "      <th>4</th>\n",
       "      <td>Ahmed</td>\n",
       "      <td>Ali</td>\n",
       "      <td>80</td>\n",
       "      <td>A</td>\n",
       "    </tr>\n",
       "  </tbody>\n",
       "</table>\n",
       "</div>"
      ],
      "text/plain": [
       "    Name Fname FinalMarks Grade\n",
       "0  Ahmed   Ali         80     A\n",
       "1  Ahmed   Ali         80     A\n",
       "2  Ahmed   Ali       Fail     A\n",
       "3  Ahmed   Ali         80     A\n",
       "4  Ahmed   Ali         80     A"
      ]
     },
     "execution_count": 103,
     "metadata": {},
     "output_type": "execute_result"
    }
   ],
   "source": [
    "df2"
   ]
  },
  {
   "cell_type": "code",
   "execution_count": 104,
   "id": "126ff93a-3f70-4147-9201-843e639ad19d",
   "metadata": {},
   "outputs": [
    {
     "data": {
      "text/html": [
       "<div>\n",
       "<style scoped>\n",
       "    .dataframe tbody tr th:only-of-type {\n",
       "        vertical-align: middle;\n",
       "    }\n",
       "\n",
       "    .dataframe tbody tr th {\n",
       "        vertical-align: top;\n",
       "    }\n",
       "\n",
       "    .dataframe thead th {\n",
       "        text-align: right;\n",
       "    }\n",
       "</style>\n",
       "<table border=\"1\" class=\"dataframe\">\n",
       "  <thead>\n",
       "    <tr style=\"text-align: right;\">\n",
       "      <th></th>\n",
       "      <th>a</th>\n",
       "      <th>b</th>\n",
       "      <th>c</th>\n",
       "      <th>d</th>\n",
       "      <th>e</th>\n",
       "    </tr>\n",
       "  </thead>\n",
       "  <tbody>\n",
       "    <tr>\n",
       "      <th>first</th>\n",
       "      <td>1</td>\n",
       "      <td>2.0</td>\n",
       "      <td>3</td>\n",
       "      <td>4.0</td>\n",
       "      <td>5</td>\n",
       "    </tr>\n",
       "    <tr>\n",
       "      <th>second</th>\n",
       "      <td>2</td>\n",
       "      <td>3.0</td>\n",
       "      <td>5</td>\n",
       "      <td>7.0</td>\n",
       "      <td>8</td>\n",
       "    </tr>\n",
       "  </tbody>\n",
       "</table>\n",
       "</div>"
      ],
      "text/plain": [
       "        a    b  c    d  e\n",
       "first   1  2.0  3  4.0  5\n",
       "second  2  3.0  5  7.0  8"
      ]
     },
     "execution_count": 104,
     "metadata": {},
     "output_type": "execute_result"
    }
   ],
   "source": [
    "df"
   ]
  },
  {
   "cell_type": "code",
   "execution_count": 114,
   "id": "f33bc0cc-071c-481d-9262-253fc87eecdf",
   "metadata": {},
   "outputs": [],
   "source": [
    "df[\"f\"] = df[\"a\"]+df[\"c\"]"
   ]
  },
  {
   "cell_type": "code",
   "execution_count": 116,
   "id": "244b0b51-b42c-4950-a134-0a68fa31383d",
   "metadata": {},
   "outputs": [
    {
     "data": {
      "text/plain": [
       "(2, 6)"
      ]
     },
     "execution_count": 116,
     "metadata": {},
     "output_type": "execute_result"
    }
   ],
   "source": [
    "df.shape"
   ]
  },
  {
   "cell_type": "code",
   "execution_count": 117,
   "id": "6805d5fe-4dbc-4149-a8bb-079f2ae2269c",
   "metadata": {},
   "outputs": [
    {
     "data": {
      "text/plain": [
       "12"
      ]
     },
     "execution_count": 117,
     "metadata": {},
     "output_type": "execute_result"
    }
   ],
   "source": [
    "df.size"
   ]
  },
  {
   "cell_type": "code",
   "execution_count": 118,
   "id": "55041672-5a8e-4b0d-badd-1966bbae29c5",
   "metadata": {},
   "outputs": [
    {
     "data": {
      "text/html": [
       "<div>\n",
       "<style scoped>\n",
       "    .dataframe tbody tr th:only-of-type {\n",
       "        vertical-align: middle;\n",
       "    }\n",
       "\n",
       "    .dataframe tbody tr th {\n",
       "        vertical-align: top;\n",
       "    }\n",
       "\n",
       "    .dataframe thead th {\n",
       "        text-align: right;\n",
       "    }\n",
       "</style>\n",
       "<table border=\"1\" class=\"dataframe\">\n",
       "  <thead>\n",
       "    <tr style=\"text-align: right;\">\n",
       "      <th></th>\n",
       "      <th>Name</th>\n",
       "      <th>Fname</th>\n",
       "      <th>FinalMarks</th>\n",
       "      <th>Grade</th>\n",
       "    </tr>\n",
       "  </thead>\n",
       "  <tbody>\n",
       "    <tr>\n",
       "      <th>0</th>\n",
       "      <td>Ahmed</td>\n",
       "      <td>Ali</td>\n",
       "      <td>80</td>\n",
       "      <td>A</td>\n",
       "    </tr>\n",
       "    <tr>\n",
       "      <th>1</th>\n",
       "      <td>Ahmed</td>\n",
       "      <td>Ali</td>\n",
       "      <td>80</td>\n",
       "      <td>A</td>\n",
       "    </tr>\n",
       "    <tr>\n",
       "      <th>2</th>\n",
       "      <td>Ahmed</td>\n",
       "      <td>Ali</td>\n",
       "      <td>Fail</td>\n",
       "      <td>A</td>\n",
       "    </tr>\n",
       "    <tr>\n",
       "      <th>3</th>\n",
       "      <td>Ahmed</td>\n",
       "      <td>Ali</td>\n",
       "      <td>80</td>\n",
       "      <td>A</td>\n",
       "    </tr>\n",
       "    <tr>\n",
       "      <th>4</th>\n",
       "      <td>Ahmed</td>\n",
       "      <td>Ali</td>\n",
       "      <td>80</td>\n",
       "      <td>A</td>\n",
       "    </tr>\n",
       "  </tbody>\n",
       "</table>\n",
       "</div>"
      ],
      "text/plain": [
       "    Name Fname FinalMarks Grade\n",
       "0  Ahmed   Ali         80     A\n",
       "1  Ahmed   Ali         80     A\n",
       "2  Ahmed   Ali       Fail     A\n",
       "3  Ahmed   Ali         80     A\n",
       "4  Ahmed   Ali         80     A"
      ]
     },
     "execution_count": 118,
     "metadata": {},
     "output_type": "execute_result"
    }
   ],
   "source": [
    "df2"
   ]
  },
  {
   "cell_type": "code",
   "execution_count": 156,
   "id": "9624e1a0-744f-4ba4-9601-7aa5be87f57f",
   "metadata": {},
   "outputs": [],
   "source": [
    "df2[\"Class\"] = pd.Series([12,11,10], index= [0,1,4])"
   ]
  },
  {
   "cell_type": "code",
   "execution_count": 157,
   "id": "6e9711c8-9269-4a32-afbb-70c4e7a94a11",
   "metadata": {},
   "outputs": [
    {
     "name": "stdout",
     "output_type": "stream",
     "text": [
      "<class 'pandas.core.frame.DataFrame'>\n",
      "RangeIndex: 20 entries, 0 to 19\n",
      "Data columns (total 5 columns):\n",
      " #   Column      Non-Null Count  Dtype  \n",
      "---  ------      --------------  -----  \n",
      " 0   Name        20 non-null     object \n",
      " 1   Fname       20 non-null     object \n",
      " 2   FinalMarks  16 non-null     float64\n",
      " 3   Grade       20 non-null     object \n",
      " 4   Class       3 non-null      float64\n",
      "dtypes: float64(2), object(3)\n",
      "memory usage: 932.0+ bytes\n"
     ]
    }
   ],
   "source": [
    "df2[\"FinalMarks\"] = pd.to_numeric(df2[\"FinalMarks\"], errors = 'coerce')\n",
    "df2.info()"
   ]
  },
  {
   "cell_type": "code",
   "execution_count": 158,
   "id": "c0759c21-8293-4921-991e-b8edd791f25a",
   "metadata": {},
   "outputs": [
    {
     "data": {
      "text/html": [
       "<div>\n",
       "<style scoped>\n",
       "    .dataframe tbody tr th:only-of-type {\n",
       "        vertical-align: middle;\n",
       "    }\n",
       "\n",
       "    .dataframe tbody tr th {\n",
       "        vertical-align: top;\n",
       "    }\n",
       "\n",
       "    .dataframe thead th {\n",
       "        text-align: right;\n",
       "    }\n",
       "</style>\n",
       "<table border=\"1\" class=\"dataframe\">\n",
       "  <thead>\n",
       "    <tr style=\"text-align: right;\">\n",
       "      <th></th>\n",
       "      <th>FinalMarks</th>\n",
       "      <th>Class</th>\n",
       "    </tr>\n",
       "  </thead>\n",
       "  <tbody>\n",
       "    <tr>\n",
       "      <th>count</th>\n",
       "      <td>16.000000</td>\n",
       "      <td>3.0</td>\n",
       "    </tr>\n",
       "    <tr>\n",
       "      <th>mean</th>\n",
       "      <td>72.500000</td>\n",
       "      <td>11.0</td>\n",
       "    </tr>\n",
       "    <tr>\n",
       "      <th>std</th>\n",
       "      <td>15.705625</td>\n",
       "      <td>1.0</td>\n",
       "    </tr>\n",
       "    <tr>\n",
       "      <th>min</th>\n",
       "      <td>30.000000</td>\n",
       "      <td>10.0</td>\n",
       "    </tr>\n",
       "    <tr>\n",
       "      <th>25%</th>\n",
       "      <td>77.500000</td>\n",
       "      <td>10.5</td>\n",
       "    </tr>\n",
       "    <tr>\n",
       "      <th>50%</th>\n",
       "      <td>80.000000</td>\n",
       "      <td>11.0</td>\n",
       "    </tr>\n",
       "    <tr>\n",
       "      <th>75%</th>\n",
       "      <td>80.000000</td>\n",
       "      <td>11.5</td>\n",
       "    </tr>\n",
       "    <tr>\n",
       "      <th>max</th>\n",
       "      <td>80.000000</td>\n",
       "      <td>12.0</td>\n",
       "    </tr>\n",
       "  </tbody>\n",
       "</table>\n",
       "</div>"
      ],
      "text/plain": [
       "       FinalMarks  Class\n",
       "count   16.000000    3.0\n",
       "mean    72.500000   11.0\n",
       "std     15.705625    1.0\n",
       "min     30.000000   10.0\n",
       "25%     77.500000   10.5\n",
       "50%     80.000000   11.0\n",
       "75%     80.000000   11.5\n",
       "max     80.000000   12.0"
      ]
     },
     "execution_count": 158,
     "metadata": {},
     "output_type": "execute_result"
    }
   ],
   "source": [
    "df2.describe()"
   ]
  },
  {
   "cell_type": "code",
   "execution_count": 127,
   "id": "d2eac249-799d-4a5f-9487-a25af66b0366",
   "metadata": {},
   "outputs": [],
   "source": [
    "mydf = pd.read_csv(\"calories.csv\")"
   ]
  },
  {
   "cell_type": "code",
   "execution_count": 133,
   "id": "5cf893c7-d94e-4294-aba3-da084837485c",
   "metadata": {},
   "outputs": [
    {
     "data": {
      "text/html": [
       "<div>\n",
       "<style scoped>\n",
       "    .dataframe tbody tr th:only-of-type {\n",
       "        vertical-align: middle;\n",
       "    }\n",
       "\n",
       "    .dataframe tbody tr th {\n",
       "        vertical-align: top;\n",
       "    }\n",
       "\n",
       "    .dataframe thead th {\n",
       "        text-align: right;\n",
       "    }\n",
       "</style>\n",
       "<table border=\"1\" class=\"dataframe\">\n",
       "  <thead>\n",
       "    <tr style=\"text-align: right;\">\n",
       "      <th></th>\n",
       "      <th>Duration</th>\n",
       "      <th>Pulse</th>\n",
       "      <th>Maxpulse</th>\n",
       "      <th>Calories</th>\n",
       "    </tr>\n",
       "  </thead>\n",
       "  <tbody>\n",
       "    <tr>\n",
       "      <th>164</th>\n",
       "      <td>60</td>\n",
       "      <td>105</td>\n",
       "      <td>140</td>\n",
       "      <td>290.8</td>\n",
       "    </tr>\n",
       "    <tr>\n",
       "      <th>165</th>\n",
       "      <td>60</td>\n",
       "      <td>110</td>\n",
       "      <td>145</td>\n",
       "      <td>300.0</td>\n",
       "    </tr>\n",
       "    <tr>\n",
       "      <th>166</th>\n",
       "      <td>60</td>\n",
       "      <td>115</td>\n",
       "      <td>145</td>\n",
       "      <td>310.2</td>\n",
       "    </tr>\n",
       "    <tr>\n",
       "      <th>167</th>\n",
       "      <td>75</td>\n",
       "      <td>120</td>\n",
       "      <td>150</td>\n",
       "      <td>320.4</td>\n",
       "    </tr>\n",
       "    <tr>\n",
       "      <th>168</th>\n",
       "      <td>75</td>\n",
       "      <td>125</td>\n",
       "      <td>150</td>\n",
       "      <td>330.4</td>\n",
       "    </tr>\n",
       "  </tbody>\n",
       "</table>\n",
       "</div>"
      ],
      "text/plain": [
       "     Duration  Pulse  Maxpulse  Calories\n",
       "164        60    105       140     290.8\n",
       "165        60    110       145     300.0\n",
       "166        60    115       145     310.2\n",
       "167        75    120       150     320.4\n",
       "168        75    125       150     330.4"
      ]
     },
     "execution_count": 133,
     "metadata": {},
     "output_type": "execute_result"
    }
   ],
   "source": [
    "mydf.tail()"
   ]
  },
  {
   "cell_type": "code",
   "execution_count": 60,
   "id": "bcddc102-42ae-45ac-bd93-d6515a7698b0",
   "metadata": {},
   "outputs": [],
   "source": []
  },
  {
   "cell_type": "code",
   "execution_count": 26,
   "id": "48d463f7-bf37-4f0b-9cde-513d74b86783",
   "metadata": {},
   "outputs": [
    {
     "ename": "NameError",
     "evalue": "name 'mydf' is not defined",
     "output_type": "error",
     "traceback": [
      "\u001b[1;31m---------------------------------------------------------------------------\u001b[0m",
      "\u001b[1;31mNameError\u001b[0m                                 Traceback (most recent call last)",
      "Cell \u001b[1;32mIn[26], line 1\u001b[0m\n\u001b[1;32m----> 1\u001b[0m \u001b[43mmydf\u001b[49m\n",
      "\u001b[1;31mNameError\u001b[0m: name 'mydf' is not defined"
     ]
    }
   ],
   "source": [
    "mydf"
   ]
  },
  {
   "cell_type": "code",
   "execution_count": 147,
   "id": "3ddb7617-9ecd-4883-8c61-46ecd6a6ae85",
   "metadata": {},
   "outputs": [
    {
     "data": {
      "text/plain": [
       "Duration    169.0\n",
       "Pulse       169.0\n",
       "Maxpulse    169.0\n",
       "Calories    164.0\n",
       "Name: count, dtype: float64"
      ]
     },
     "execution_count": 147,
     "metadata": {},
     "output_type": "execute_result"
    }
   ],
   "source": [
    "mydf.describe().loc[\"count\"]"
   ]
  },
  {
   "cell_type": "code",
   "execution_count": 144,
   "id": "faf88c09-a1ab-403f-b3fe-fbb78f19bdcc",
   "metadata": {},
   "outputs": [
    {
     "data": {
      "text/plain": [
       "np.float64(63.84615384615385)"
      ]
     },
     "execution_count": 144,
     "metadata": {},
     "output_type": "execute_result"
    }
   ],
   "source": [
    "mydf.Duration.mean()"
   ]
  },
  {
   "cell_type": "code",
   "execution_count": 15,
   "id": "b9939da2-8829-4030-b909-09ef5a4f3e04",
   "metadata": {},
   "outputs": [],
   "source": [
    "my_df = pd.DataFrame([[1,3,4],[5,6,7,8]],columns = [\"one\",\"two\",\"three\",\"four\"],index = [\"A\",\"B\"],dtype = float)"
   ]
  },
  {
   "cell_type": "code",
   "execution_count": 18,
   "id": "f2fe208c-c1a9-4c24-9016-39fe0b5a3d99",
   "metadata": {},
   "outputs": [
    {
     "data": {
      "text/html": [
       "<div>\n",
       "<style scoped>\n",
       "    .dataframe tbody tr th:only-of-type {\n",
       "        vertical-align: middle;\n",
       "    }\n",
       "\n",
       "    .dataframe tbody tr th {\n",
       "        vertical-align: top;\n",
       "    }\n",
       "\n",
       "    .dataframe thead th {\n",
       "        text-align: right;\n",
       "    }\n",
       "</style>\n",
       "<table border=\"1\" class=\"dataframe\">\n",
       "  <thead>\n",
       "    <tr style=\"text-align: right;\">\n",
       "      <th></th>\n",
       "      <th>one</th>\n",
       "      <th>two</th>\n",
       "      <th>three</th>\n",
       "      <th>four</th>\n",
       "    </tr>\n",
       "  </thead>\n",
       "  <tbody>\n",
       "    <tr>\n",
       "      <th>A</th>\n",
       "      <td>1</td>\n",
       "      <td>3</td>\n",
       "      <td>4.0</td>\n",
       "      <td>NaN</td>\n",
       "    </tr>\n",
       "    <tr>\n",
       "      <th>B</th>\n",
       "      <td>5</td>\n",
       "      <td>6</td>\n",
       "      <td>7.0</td>\n",
       "      <td>8.0</td>\n",
       "    </tr>\n",
       "  </tbody>\n",
       "</table>\n",
       "</div>"
      ],
      "text/plain": [
       "   one  two  three  four\n",
       "A    1    3    4.0   NaN\n",
       "B    5    6    7.0   8.0"
      ]
     },
     "execution_count": 18,
     "metadata": {},
     "output_type": "execute_result"
    }
   ],
   "source": [
    "my_df.astype({\"one\":int,\"two\":int})"
   ]
  },
  {
   "cell_type": "code",
   "execution_count": 19,
   "id": "b94a801c-5972-4a73-b23a-5f3aad48ac2e",
   "metadata": {},
   "outputs": [
    {
     "data": {
      "text/html": [
       "<div>\n",
       "<style scoped>\n",
       "    .dataframe tbody tr th:only-of-type {\n",
       "        vertical-align: middle;\n",
       "    }\n",
       "\n",
       "    .dataframe tbody tr th {\n",
       "        vertical-align: top;\n",
       "    }\n",
       "\n",
       "    .dataframe thead th {\n",
       "        text-align: right;\n",
       "    }\n",
       "</style>\n",
       "<table border=\"1\" class=\"dataframe\">\n",
       "  <thead>\n",
       "    <tr style=\"text-align: right;\">\n",
       "      <th></th>\n",
       "      <th>one</th>\n",
       "      <th>two</th>\n",
       "      <th>three</th>\n",
       "      <th>four</th>\n",
       "    </tr>\n",
       "  </thead>\n",
       "  <tbody>\n",
       "    <tr>\n",
       "      <th>A</th>\n",
       "      <td>1.0</td>\n",
       "      <td>3.0</td>\n",
       "      <td>4.0</td>\n",
       "      <td>NaN</td>\n",
       "    </tr>\n",
       "    <tr>\n",
       "      <th>B</th>\n",
       "      <td>5.0</td>\n",
       "      <td>6.0</td>\n",
       "      <td>7.0</td>\n",
       "      <td>8.0</td>\n",
       "    </tr>\n",
       "  </tbody>\n",
       "</table>\n",
       "</div>"
      ],
      "text/plain": [
       "   one  two  three  four\n",
       "A  1.0  3.0    4.0   NaN\n",
       "B  5.0  6.0    7.0   8.0"
      ]
     },
     "execution_count": 19,
     "metadata": {},
     "output_type": "execute_result"
    }
   ],
   "source": [
    "my_df"
   ]
  },
  {
   "cell_type": "code",
   "execution_count": 20,
   "id": "41915412-ad28-4b2a-a90a-2feac21c394e",
   "metadata": {},
   "outputs": [],
   "source": [
    "my_df1 = pd.DataFrame([{\"Name\":\"Corolla\",\"Company\":\"Toyota\",\"Model\":\"2010\",\"Varient\": \"GLI\"},\n",
    "                      {\"Name\":\"Corolla1\",\"Company\":\"Toyota\",\"Model\":\"2010\",\"Varient\": \"GLI\"},\n",
    "                      {\"Name\":\"Corolla2\",\"Company\":\"Toyota\",\"Model\":\"2010\",\"Varient\": \"GLI\"},\n",
    "                      {\"Name\":\"Corolla3\",\"Company\":\"Toyota\",\"Model\":\"2010\",\"Varient\": \"GLI\"},\n",
    "                      {\"Name\":\"Corolla4\",\"Company\":\"Toyota\",\"Model\":\"2010\",\"Varient\": \"GLI\"}])"
   ]
  },
  {
   "cell_type": "code",
   "execution_count": 21,
   "id": "1cddb380-6e17-4acc-8bf7-e922953c42ee",
   "metadata": {},
   "outputs": [
    {
     "data": {
      "text/html": [
       "<div>\n",
       "<style scoped>\n",
       "    .dataframe tbody tr th:only-of-type {\n",
       "        vertical-align: middle;\n",
       "    }\n",
       "\n",
       "    .dataframe tbody tr th {\n",
       "        vertical-align: top;\n",
       "    }\n",
       "\n",
       "    .dataframe thead th {\n",
       "        text-align: right;\n",
       "    }\n",
       "</style>\n",
       "<table border=\"1\" class=\"dataframe\">\n",
       "  <thead>\n",
       "    <tr style=\"text-align: right;\">\n",
       "      <th></th>\n",
       "      <th>Name</th>\n",
       "      <th>Company</th>\n",
       "      <th>Model</th>\n",
       "      <th>Varient</th>\n",
       "    </tr>\n",
       "  </thead>\n",
       "  <tbody>\n",
       "    <tr>\n",
       "      <th>0</th>\n",
       "      <td>Corolla</td>\n",
       "      <td>Toyota</td>\n",
       "      <td>2010</td>\n",
       "      <td>GLI</td>\n",
       "    </tr>\n",
       "    <tr>\n",
       "      <th>1</th>\n",
       "      <td>Corolla1</td>\n",
       "      <td>Toyota</td>\n",
       "      <td>2010</td>\n",
       "      <td>GLI</td>\n",
       "    </tr>\n",
       "    <tr>\n",
       "      <th>2</th>\n",
       "      <td>Corolla2</td>\n",
       "      <td>Toyota</td>\n",
       "      <td>2010</td>\n",
       "      <td>GLI</td>\n",
       "    </tr>\n",
       "    <tr>\n",
       "      <th>3</th>\n",
       "      <td>Corolla3</td>\n",
       "      <td>Toyota</td>\n",
       "      <td>2010</td>\n",
       "      <td>GLI</td>\n",
       "    </tr>\n",
       "    <tr>\n",
       "      <th>4</th>\n",
       "      <td>Corolla4</td>\n",
       "      <td>Toyota</td>\n",
       "      <td>2010</td>\n",
       "      <td>GLI</td>\n",
       "    </tr>\n",
       "  </tbody>\n",
       "</table>\n",
       "</div>"
      ],
      "text/plain": [
       "       Name Company Model Varient\n",
       "0   Corolla  Toyota  2010     GLI\n",
       "1  Corolla1  Toyota  2010     GLI\n",
       "2  Corolla2  Toyota  2010     GLI\n",
       "3  Corolla3  Toyota  2010     GLI\n",
       "4  Corolla4  Toyota  2010     GLI"
      ]
     },
     "execution_count": 21,
     "metadata": {},
     "output_type": "execute_result"
    }
   ],
   "source": [
    "my_df1"
   ]
  },
  {
   "cell_type": "code",
   "execution_count": 22,
   "id": "e33e2cb8-b813-4a18-a08e-4e1b216da509",
   "metadata": {},
   "outputs": [],
   "source": [
    "student = [{\"Name\":\"Ahmed\",\"Fname\":\"Ali\",\"FinalMarks\":80,\"Grade\":\"A\"},\n",
    "           {\"Name\":\"Ahmed\",\"Fname\":\"Ali\",\"FinalMarks\":80,\"Grade\":\"A\"},\n",
    "           {\"Name\":\"Ahmed\",\"Fname\":\"Ali\",\"FinalMarks\":\"Fail\",\"Grade\":\"A\"},\n",
    "           {\"Name\":\"Ahmed\",\"Fname\":\"Ali\",\"FinalMarks\":80,\"Grade\":\"A\"},\n",
    "           {\"Name\":\"Ahmed\",\"Fname\":\"Ali\",\"FinalMarks\":80,\"Grade\":\"A\"},\n",
    "          {\"Name\":\"Ahmed\",\"Fname\":\"Ali\",\"FinalMarks\":80,\"Grade\":\"A\"},\n",
    "           {\"Name\":\"Ahmed\",\"Fname\":\"Ali\",\"FinalMarks\":80,\"Grade\":\"A\"},\n",
    "           {\"Name\":\"Ahmed\",\"Fname\":\"Ali\",\"FinalMarks\":\"Fail\",\"Grade\":\"A\"},\n",
    "           {\"Name\":\"Ahmed\",\"Fname\":\"Ali\",\"FinalMarks\":30,\"Grade\":\"A\"},\n",
    "           {\"Name\":\"Ahmed\",\"Fname\":\"Ali\",\"FinalMarks\":40,\"Grade\":\"A\"},\n",
    "          {\"Name\":\"Ahmed\",\"Fname\":\"Ali\",\"FinalMarks\":80,\"Grade\":\"A\"},\n",
    "           {\"Name\":\"Ahmed\",\"Fname\":\"Ali\",\"FinalMarks\":60,\"Grade\":\"A\"},\n",
    "           {\"Name\":\"Ahmed\",\"Fname\":\"Ali\",\"FinalMarks\":\"Fail\",\"Grade\":\"A\"},\n",
    "           {\"Name\":\"Ahmed\",\"Fname\":\"Ali\",\"FinalMarks\":70,\"Grade\":\"A\"},\n",
    "           {\"Name\":\"Ahmed\",\"Fname\":\"Ali\",\"FinalMarks\":80,\"Grade\":\"A\"},\n",
    "           {\"Name\":\"Ahmed\",\"Fname\":\"Ali\",\"FinalMarks\":80,\"Grade\":\"A\"},\n",
    "           {\"Name\":\"Ahmed\",\"Fname\":\"Ali\",\"FinalMarks\":80,\"Grade\":\"A\"},\n",
    "           {\"Name\":\"Ahmed\",\"Fname\":\"Ali\",\"FinalMarks\":\"Fail\",\"Grade\":\"A\"},\n",
    "           {\"Name\":\"Ahmed\",\"Fname\":\"Ali\",\"FinalMarks\":80,\"Grade\":\"A\"},\n",
    "           {\"Name\":\"Ahmed\",\"Fname\":\"Ali\",\"FinalMarks\":80,\"Grade\":\"A\"}]"
   ]
  },
  {
   "cell_type": "code",
   "execution_count": 51,
   "id": "09bf21fb-fa9a-470c-846b-1e83dc8ee125",
   "metadata": {},
   "outputs": [
    {
     "data": {
      "text/html": [
       "<div>\n",
       "<style scoped>\n",
       "    .dataframe tbody tr th:only-of-type {\n",
       "        vertical-align: middle;\n",
       "    }\n",
       "\n",
       "    .dataframe tbody tr th {\n",
       "        vertical-align: top;\n",
       "    }\n",
       "\n",
       "    .dataframe thead th {\n",
       "        text-align: right;\n",
       "    }\n",
       "</style>\n",
       "<table border=\"1\" class=\"dataframe\">\n",
       "  <thead>\n",
       "    <tr style=\"text-align: right;\">\n",
       "      <th></th>\n",
       "      <th>Name</th>\n",
       "      <th>Fname</th>\n",
       "      <th>FinalMarks</th>\n",
       "      <th>Grade</th>\n",
       "    </tr>\n",
       "  </thead>\n",
       "  <tbody>\n",
       "    <tr>\n",
       "      <th>0</th>\n",
       "      <td>Ahmed</td>\n",
       "      <td>Ali</td>\n",
       "      <td>80</td>\n",
       "      <td>A</td>\n",
       "    </tr>\n",
       "    <tr>\n",
       "      <th>1</th>\n",
       "      <td>Ahmed</td>\n",
       "      <td>Ali</td>\n",
       "      <td>80</td>\n",
       "      <td>A</td>\n",
       "    </tr>\n",
       "    <tr>\n",
       "      <th>...</th>\n",
       "      <td>...</td>\n",
       "      <td>...</td>\n",
       "      <td>...</td>\n",
       "      <td>...</td>\n",
       "    </tr>\n",
       "    <tr>\n",
       "      <th>18</th>\n",
       "      <td>Ahmed</td>\n",
       "      <td>Ali</td>\n",
       "      <td>80</td>\n",
       "      <td>A</td>\n",
       "    </tr>\n",
       "    <tr>\n",
       "      <th>19</th>\n",
       "      <td>Ahmed</td>\n",
       "      <td>Ali</td>\n",
       "      <td>80</td>\n",
       "      <td>A</td>\n",
       "    </tr>\n",
       "  </tbody>\n",
       "</table>\n",
       "<p>20 rows × 4 columns</p>\n",
       "</div>"
      ],
      "text/plain": [
       "     Name Fname FinalMarks Grade\n",
       "0   Ahmed   Ali         80     A\n",
       "1   Ahmed   Ali         80     A\n",
       "..    ...   ...        ...   ...\n",
       "18  Ahmed   Ali         80     A\n",
       "19  Ahmed   Ali         80     A\n",
       "\n",
       "[20 rows x 4 columns]"
      ]
     },
     "execution_count": 51,
     "metadata": {},
     "output_type": "execute_result"
    }
   ],
   "source": [
    "student_df = pd.DataFrame(student)\n",
    "student_df"
   ]
  },
  {
   "cell_type": "code",
   "execution_count": 52,
   "id": "5f8efc90-a579-4b0a-aa0c-8353ffb58404",
   "metadata": {},
   "outputs": [
    {
     "data": {
      "text/plain": [
       "(20, 4)"
      ]
     },
     "execution_count": 52,
     "metadata": {},
     "output_type": "execute_result"
    }
   ],
   "source": [
    "student_df.shape"
   ]
  },
  {
   "cell_type": "code",
   "execution_count": 53,
   "id": "711413f1-395d-4951-a03f-0673fae86412",
   "metadata": {},
   "outputs": [],
   "source": [
    "student_df[\"FinalMarks\"] = pd.to_numeric(student_df[\"FinalMarks\"], errors= \"coerce\")"
   ]
  },
  {
   "cell_type": "code",
   "execution_count": 61,
   "id": "57d78d56-5bf0-4ef7-b7b1-29ced275be41",
   "metadata": {},
   "outputs": [
    {
     "data": {
      "text/html": [
       "<div>\n",
       "<style scoped>\n",
       "    .dataframe tbody tr th:only-of-type {\n",
       "        vertical-align: middle;\n",
       "    }\n",
       "\n",
       "    .dataframe tbody tr th {\n",
       "        vertical-align: top;\n",
       "    }\n",
       "\n",
       "    .dataframe thead th {\n",
       "        text-align: right;\n",
       "    }\n",
       "</style>\n",
       "<table border=\"1\" class=\"dataframe\">\n",
       "  <thead>\n",
       "    <tr style=\"text-align: right;\">\n",
       "      <th></th>\n",
       "      <th>FinalMarks</th>\n",
       "    </tr>\n",
       "  </thead>\n",
       "  <tbody>\n",
       "    <tr>\n",
       "      <th>count</th>\n",
       "      <td>16.000000</td>\n",
       "    </tr>\n",
       "    <tr>\n",
       "      <th>mean</th>\n",
       "      <td>72.500000</td>\n",
       "    </tr>\n",
       "    <tr>\n",
       "      <th>std</th>\n",
       "      <td>15.705625</td>\n",
       "    </tr>\n",
       "    <tr>\n",
       "      <th>min</th>\n",
       "      <td>30.000000</td>\n",
       "    </tr>\n",
       "    <tr>\n",
       "      <th>25%</th>\n",
       "      <td>77.500000</td>\n",
       "    </tr>\n",
       "    <tr>\n",
       "      <th>50%</th>\n",
       "      <td>80.000000</td>\n",
       "    </tr>\n",
       "    <tr>\n",
       "      <th>75%</th>\n",
       "      <td>80.000000</td>\n",
       "    </tr>\n",
       "    <tr>\n",
       "      <th>max</th>\n",
       "      <td>80.000000</td>\n",
       "    </tr>\n",
       "  </tbody>\n",
       "</table>\n",
       "</div>"
      ],
      "text/plain": [
       "       FinalMarks\n",
       "count   16.000000\n",
       "mean    72.500000\n",
       "std     15.705625\n",
       "min     30.000000\n",
       "25%     77.500000\n",
       "50%     80.000000\n",
       "75%     80.000000\n",
       "max     80.000000"
      ]
     },
     "execution_count": 61,
     "metadata": {},
     "output_type": "execute_result"
    }
   ],
   "source": [
    "student_df.describe()"
   ]
  },
  {
   "cell_type": "code",
   "execution_count": 62,
   "id": "932f9186-9097-49b0-a3db-d613d3bacc51",
   "metadata": {},
   "outputs": [],
   "source": [
    "customers = pd.read_csv(\"week 17 dataset/customers.csv\")"
   ]
  },
  {
   "cell_type": "code",
   "execution_count": 67,
   "id": "65acbc12-9fef-475c-9a39-97634dcf6f49",
   "metadata": {},
   "outputs": [
    {
     "data": {
      "text/html": [
       "<div>\n",
       "<style scoped>\n",
       "    .dataframe tbody tr th:only-of-type {\n",
       "        vertical-align: middle;\n",
       "    }\n",
       "\n",
       "    .dataframe tbody tr th {\n",
       "        vertical-align: top;\n",
       "    }\n",
       "\n",
       "    .dataframe thead th {\n",
       "        text-align: right;\n",
       "    }\n",
       "</style>\n",
       "<table border=\"1\" class=\"dataframe\">\n",
       "  <thead>\n",
       "    <tr style=\"text-align: right;\">\n",
       "      <th></th>\n",
       "      <th>customer_id</th>\n",
       "      <th>name</th>\n",
       "      <th>age</th>\n",
       "      <th>gender</th>\n",
       "      <th>city</th>\n",
       "    </tr>\n",
       "  </thead>\n",
       "  <tbody>\n",
       "    <tr>\n",
       "      <th>490</th>\n",
       "      <td>C0491</td>\n",
       "      <td>Tyler</td>\n",
       "      <td>33</td>\n",
       "      <td>Female</td>\n",
       "      <td>East Samanthaborough</td>\n",
       "    </tr>\n",
       "    <tr>\n",
       "      <th>491</th>\n",
       "      <td>C0492</td>\n",
       "      <td>Douglas</td>\n",
       "      <td>19</td>\n",
       "      <td>Male</td>\n",
       "      <td>Jonathanport</td>\n",
       "    </tr>\n",
       "    <tr>\n",
       "      <th>492</th>\n",
       "      <td>C0493</td>\n",
       "      <td>Kristopher</td>\n",
       "      <td>45</td>\n",
       "      <td>Female</td>\n",
       "      <td>Brownfort</td>\n",
       "    </tr>\n",
       "    <tr>\n",
       "      <th>493</th>\n",
       "      <td>C0494</td>\n",
       "      <td>Kristi</td>\n",
       "      <td>49</td>\n",
       "      <td>Female</td>\n",
       "      <td>South Jamie</td>\n",
       "    </tr>\n",
       "    <tr>\n",
       "      <th>494</th>\n",
       "      <td>C0495</td>\n",
       "      <td>Austin</td>\n",
       "      <td>44</td>\n",
       "      <td>Male</td>\n",
       "      <td>Mikeside</td>\n",
       "    </tr>\n",
       "    <tr>\n",
       "      <th>495</th>\n",
       "      <td>C0496</td>\n",
       "      <td>Stephanie</td>\n",
       "      <td>37</td>\n",
       "      <td>Male</td>\n",
       "      <td>Santosport</td>\n",
       "    </tr>\n",
       "    <tr>\n",
       "      <th>496</th>\n",
       "      <td>C0497</td>\n",
       "      <td>Susan</td>\n",
       "      <td>41</td>\n",
       "      <td>Male</td>\n",
       "      <td>Annaside</td>\n",
       "    </tr>\n",
       "    <tr>\n",
       "      <th>497</th>\n",
       "      <td>C0498</td>\n",
       "      <td>Spencer</td>\n",
       "      <td>29</td>\n",
       "      <td>Female</td>\n",
       "      <td>Harrisside</td>\n",
       "    </tr>\n",
       "    <tr>\n",
       "      <th>498</th>\n",
       "      <td>C0499</td>\n",
       "      <td>Rachel</td>\n",
       "      <td>52</td>\n",
       "      <td>Male</td>\n",
       "      <td>Anthonymouth</td>\n",
       "    </tr>\n",
       "    <tr>\n",
       "      <th>499</th>\n",
       "      <td>C0500</td>\n",
       "      <td>Jasmine</td>\n",
       "      <td>50</td>\n",
       "      <td>Male</td>\n",
       "      <td>North Mark</td>\n",
       "    </tr>\n",
       "  </tbody>\n",
       "</table>\n",
       "</div>"
      ],
      "text/plain": [
       "    customer_id        name  age  gender                  city\n",
       "490       C0491       Tyler   33  Female  East Samanthaborough\n",
       "491       C0492     Douglas   19    Male          Jonathanport\n",
       "492       C0493  Kristopher   45  Female             Brownfort\n",
       "493       C0494      Kristi   49  Female           South Jamie\n",
       "494       C0495      Austin   44    Male              Mikeside\n",
       "495       C0496   Stephanie   37    Male            Santosport\n",
       "496       C0497       Susan   41    Male              Annaside\n",
       "497       C0498     Spencer   29  Female            Harrisside\n",
       "498       C0499      Rachel   52    Male          Anthonymouth\n",
       "499       C0500     Jasmine   50    Male            North Mark"
      ]
     },
     "execution_count": 67,
     "metadata": {},
     "output_type": "execute_result"
    }
   ],
   "source": [
    "customers.tail(10)"
   ]
  },
  {
   "cell_type": "code",
   "execution_count": 97,
   "id": "da8186a8-3f82-46a9-a2da-4383e96dd40c",
   "metadata": {},
   "outputs": [
    {
     "data": {
      "text/html": [
       "<div>\n",
       "<style scoped>\n",
       "    .dataframe tbody tr th:only-of-type {\n",
       "        vertical-align: middle;\n",
       "    }\n",
       "\n",
       "    .dataframe tbody tr th {\n",
       "        vertical-align: top;\n",
       "    }\n",
       "\n",
       "    .dataframe thead th {\n",
       "        text-align: right;\n",
       "    }\n",
       "</style>\n",
       "<table border=\"1\" class=\"dataframe\">\n",
       "  <thead>\n",
       "    <tr style=\"text-align: right;\">\n",
       "      <th></th>\n",
       "      <th>age</th>\n",
       "    </tr>\n",
       "  </thead>\n",
       "  <tbody>\n",
       "    <tr>\n",
       "      <th>count</th>\n",
       "      <td>500.000000</td>\n",
       "    </tr>\n",
       "    <tr>\n",
       "      <th>mean</th>\n",
       "      <td>41.278000</td>\n",
       "    </tr>\n",
       "    <tr>\n",
       "      <th>std</th>\n",
       "      <td>13.389072</td>\n",
       "    </tr>\n",
       "    <tr>\n",
       "      <th>min</th>\n",
       "      <td>18.000000</td>\n",
       "    </tr>\n",
       "    <tr>\n",
       "      <th>25%</th>\n",
       "      <td>30.000000</td>\n",
       "    </tr>\n",
       "    <tr>\n",
       "      <th>50%</th>\n",
       "      <td>42.000000</td>\n",
       "    </tr>\n",
       "    <tr>\n",
       "      <th>75%</th>\n",
       "      <td>52.000000</td>\n",
       "    </tr>\n",
       "    <tr>\n",
       "      <th>max</th>\n",
       "      <td>64.000000</td>\n",
       "    </tr>\n",
       "  </tbody>\n",
       "</table>\n",
       "</div>"
      ],
      "text/plain": [
       "              age\n",
       "count  500.000000\n",
       "mean    41.278000\n",
       "std     13.389072\n",
       "min     18.000000\n",
       "25%     30.000000\n",
       "50%     42.000000\n",
       "75%     52.000000\n",
       "max     64.000000"
      ]
     },
     "execution_count": 97,
     "metadata": {},
     "output_type": "execute_result"
    }
   ],
   "source": [
    "d = customers.describe()\n",
    "d"
   ]
  },
  {
   "cell_type": "code",
   "execution_count": 102,
   "id": "e248beba-852f-437a-8fac-b59f2a8d05f5",
   "metadata": {},
   "outputs": [
    {
     "data": {
      "text/plain": [
       "age    42.0\n",
       "Name: 50%, dtype: float64"
      ]
     },
     "execution_count": 102,
     "metadata": {},
     "output_type": "execute_result"
    }
   ],
   "source": [
    "d.loc[\"50%\"]"
   ]
  },
  {
   "cell_type": "markdown",
   "id": "aee37d07-18b8-4481-a450-6fbae3a0189d",
   "metadata": {},
   "source": [
    "# Task Ecommerce\n",
    "\n",
    "- A Complete Annual Report for every year (Total sale, Most sailing category, most sailing product)\n",
    "- A Complete Monthly Report for every month of every year (Total sale, Most sailing category, most sailing product)\n",
    "- Most re-visited customers\n",
    "- Most sailing category in complete 3 years\n",
    "- Most sailing product in complete 3 years\n",
    "- List of all categories\n",
    "- Names of customers who had spended more than 2000$ on our store\n",
    "- no of customers below 30, 50, 80 on every categories"
   ]
  },
  {
   "cell_type": "code",
   "execution_count": 137,
   "id": "85ed3650-44a4-4bbb-8c7a-93a7f98bbe7b",
   "metadata": {},
   "outputs": [
    {
     "data": {
      "text/plain": [
       "'Oscar'"
      ]
     },
     "execution_count": 137,
     "metadata": {},
     "output_type": "execute_result"
    }
   ],
   "source": [
    "customers[customers[\"age\"]<50].reset_index().loc[3,\"name\"]"
   ]
  },
  {
   "cell_type": "code",
   "execution_count": 122,
   "id": "247de9b2-5494-44e0-9dff-57244dac2bee",
   "metadata": {},
   "outputs": [
    {
     "data": {
      "text/html": [
       "<div>\n",
       "<style scoped>\n",
       "    .dataframe tbody tr th:only-of-type {\n",
       "        vertical-align: middle;\n",
       "    }\n",
       "\n",
       "    .dataframe tbody tr th {\n",
       "        vertical-align: top;\n",
       "    }\n",
       "\n",
       "    .dataframe thead th {\n",
       "        text-align: right;\n",
       "    }\n",
       "</style>\n",
       "<table border=\"1\" class=\"dataframe\">\n",
       "  <thead>\n",
       "    <tr style=\"text-align: right;\">\n",
       "      <th></th>\n",
       "      <th>index</th>\n",
       "      <th>customer_id</th>\n",
       "      <th>name</th>\n",
       "    </tr>\n",
       "  </thead>\n",
       "  <tbody>\n",
       "    <tr>\n",
       "      <th>0</th>\n",
       "      <td>4</td>\n",
       "      <td>C0005</td>\n",
       "      <td>Taylor</td>\n",
       "    </tr>\n",
       "    <tr>\n",
       "      <th>1</th>\n",
       "      <td>9</td>\n",
       "      <td>C0010</td>\n",
       "      <td>Jacqueline</td>\n",
       "    </tr>\n",
       "    <tr>\n",
       "      <th>2</th>\n",
       "      <td>10</td>\n",
       "      <td>C0011</td>\n",
       "      <td>Sarah</td>\n",
       "    </tr>\n",
       "    <tr>\n",
       "      <th>3</th>\n",
       "      <td>15</td>\n",
       "      <td>C0016</td>\n",
       "      <td>Danielle</td>\n",
       "    </tr>\n",
       "    <tr>\n",
       "      <th>4</th>\n",
       "      <td>17</td>\n",
       "      <td>C0018</td>\n",
       "      <td>Timothy</td>\n",
       "    </tr>\n",
       "    <tr>\n",
       "      <th>...</th>\n",
       "      <td>...</td>\n",
       "      <td>...</td>\n",
       "      <td>...</td>\n",
       "    </tr>\n",
       "    <tr>\n",
       "      <th>116</th>\n",
       "      <td>484</td>\n",
       "      <td>C0485</td>\n",
       "      <td>Cameron</td>\n",
       "    </tr>\n",
       "    <tr>\n",
       "      <th>117</th>\n",
       "      <td>485</td>\n",
       "      <td>C0486</td>\n",
       "      <td>Jasmine</td>\n",
       "    </tr>\n",
       "    <tr>\n",
       "      <th>118</th>\n",
       "      <td>487</td>\n",
       "      <td>C0488</td>\n",
       "      <td>Jacob</td>\n",
       "    </tr>\n",
       "    <tr>\n",
       "      <th>119</th>\n",
       "      <td>491</td>\n",
       "      <td>C0492</td>\n",
       "      <td>Douglas</td>\n",
       "    </tr>\n",
       "    <tr>\n",
       "      <th>120</th>\n",
       "      <td>497</td>\n",
       "      <td>C0498</td>\n",
       "      <td>Spencer</td>\n",
       "    </tr>\n",
       "  </tbody>\n",
       "</table>\n",
       "<p>121 rows × 3 columns</p>\n",
       "</div>"
      ],
      "text/plain": [
       "     index customer_id        name\n",
       "0        4       C0005      Taylor\n",
       "1        9       C0010  Jacqueline\n",
       "2       10       C0011       Sarah\n",
       "3       15       C0016    Danielle\n",
       "4       17       C0018     Timothy\n",
       "..     ...         ...         ...\n",
       "116    484       C0485     Cameron\n",
       "117    485       C0486     Jasmine\n",
       "118    487       C0488       Jacob\n",
       "119    491       C0492     Douglas\n",
       "120    497       C0498     Spencer\n",
       "\n",
       "[121 rows x 3 columns]"
      ]
     },
     "execution_count": 122,
     "metadata": {},
     "output_type": "execute_result"
    }
   ],
   "source": [
    "below_"
   ]
  },
  {
   "cell_type": "code",
   "execution_count": 138,
   "id": "8915288d-25c3-424d-a7ee-7b46ce410ceb",
   "metadata": {},
   "outputs": [],
   "source": [
    "orders = pd.read_csv(\"week 17 dataset/orders.csv\")"
   ]
  },
  {
   "cell_type": "code",
   "execution_count": 142,
   "id": "864f4050-41bf-492d-89fb-37e100c9119e",
   "metadata": {},
   "outputs": [
    {
     "data": {
      "text/plain": [
       "customer_id\n",
       "C0028    13\n",
       "C0113    13\n",
       "C0243    12\n",
       "C0475    11\n",
       "C0108    11\n",
       "         ..\n",
       "C0279     1\n",
       "C0260     1\n",
       "C0152     1\n",
       "C0400     1\n",
       "C0263     1\n",
       "Name: count, Length: 498, dtype: int64"
      ]
     },
     "execution_count": 142,
     "metadata": {},
     "output_type": "execute_result"
    }
   ],
   "source": [
    "orders.customer_id.value_counts()"
   ]
  },
  {
   "cell_type": "code",
   "execution_count": 143,
   "id": "2475b15c-5531-4ddc-b3c7-f9c274a411db",
   "metadata": {},
   "outputs": [],
   "source": [
    "products = pd.read_csv(\"week 17 dataset/products.csv\")"
   ]
  },
  {
   "cell_type": "code",
   "execution_count": 145,
   "id": "cb62f68d-1315-48a5-b492-4405bbcef0af",
   "metadata": {},
   "outputs": [
    {
     "data": {
      "text/plain": [
       "array(['Clothing', 'Accessories', 'Home', 'Footwear', 'Electronics'],\n",
       "      dtype=object)"
      ]
     },
     "execution_count": 145,
     "metadata": {},
     "output_type": "execute_result"
    }
   ],
   "source": [
    "products[\"category\"].unique()"
   ]
  },
  {
   "cell_type": "code",
   "execution_count": 150,
   "id": "ed34921e-764f-45d8-a5f2-e46c8a001abf",
   "metadata": {},
   "outputs": [
    {
     "data": {
      "text/plain": [
       "category\n",
       "Electronics    22\n",
       "Clothing       21\n",
       "Accessories    21\n",
       "Footwear       19\n",
       "Home           17\n",
       "Name: count, dtype: int64"
      ]
     },
     "execution_count": 150,
     "metadata": {},
     "output_type": "execute_result"
    }
   ],
   "source": [
    "category_count = products[\"category\"].value_counts()\n",
    "category_count"
   ]
  },
  {
   "cell_type": "code",
   "execution_count": 151,
   "id": "90994cd6-109f-4ea6-aff4-0b9c91473a62",
   "metadata": {},
   "outputs": [
    {
     "data": {
      "text/plain": [
       "np.int64(19)"
      ]
     },
     "execution_count": 151,
     "metadata": {},
     "output_type": "execute_result"
    }
   ],
   "source": [
    "category_count[\"Footwear\"]"
   ]
  },
  {
   "cell_type": "code",
   "execution_count": 155,
   "id": "f50cd8a5-ee79-49d5-a8a0-1d543c923b8d",
   "metadata": {},
   "outputs": [],
   "source": [
    "orders[\"order_date\"] = pd.to_datetime(orders[\"order_date\"])"
   ]
  },
  {
   "cell_type": "code",
   "execution_count": 156,
   "id": "95314f9d-c87d-4f94-b5d6-f18c18e866fe",
   "metadata": {},
   "outputs": [
    {
     "name": "stdout",
     "output_type": "stream",
     "text": [
      "<class 'pandas.core.frame.DataFrame'>\n",
      "RangeIndex: 2584 entries, 0 to 2583\n",
      "Data columns (total 5 columns):\n",
      " #   Column       Non-Null Count  Dtype         \n",
      "---  ------       --------------  -----         \n",
      " 0   order_id     2584 non-null   object        \n",
      " 1   customer_id  2584 non-null   object        \n",
      " 2   product_id   2584 non-null   object        \n",
      " 3   quantity     2584 non-null   int64         \n",
      " 4   order_date   2584 non-null   datetime64[ns]\n",
      "dtypes: datetime64[ns](1), int64(1), object(3)\n",
      "memory usage: 101.1+ KB\n"
     ]
    }
   ],
   "source": [
    "orders.info()"
   ]
  },
  {
   "cell_type": "code",
   "execution_count": 157,
   "id": "06c2820b-9b8a-4b35-a9a2-5974b4076cb6",
   "metadata": {},
   "outputs": [],
   "source": [
    "orders_2022 = orders[orders[\"order_date\"].dt.year == 2022]"
   ]
  },
  {
   "cell_type": "code",
   "execution_count": 162,
   "id": "e5aecfda-2c0e-4982-9866-09e07eecbfba",
   "metadata": {},
   "outputs": [
    {
     "name": "stdout",
     "output_type": "stream",
     "text": [
      "Object `unique` not found.\n"
     ]
    }
   ],
   "source": [
    "orders[\"order_date\"].dt.year.unique?"
   ]
  },
  {
   "cell_type": "code",
   "execution_count": null,
   "id": "97b1bf13-b0c2-490a-9ff7-ae914e5e6411",
   "metadata": {},
   "outputs": [],
   "source": [
    "pd.options.display.max_rows = 10"
   ]
  }
 ],
 "metadata": {
  "kernelspec": {
   "display_name": "Python 3 (ipykernel)",
   "language": "python",
   "name": "python3"
  },
  "language_info": {
   "codemirror_mode": {
    "name": "ipython",
    "version": 3
   },
   "file_extension": ".py",
   "mimetype": "text/x-python",
   "name": "python",
   "nbconvert_exporter": "python",
   "pygments_lexer": "ipython3",
   "version": "3.11.3"
  }
 },
 "nbformat": 4,
 "nbformat_minor": 5
}
