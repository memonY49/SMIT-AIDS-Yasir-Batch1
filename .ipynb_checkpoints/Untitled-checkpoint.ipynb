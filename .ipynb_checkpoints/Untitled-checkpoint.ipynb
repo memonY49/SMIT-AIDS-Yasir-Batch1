{
 "cells": [
  {
   "cell_type": "code",
   "execution_count": 27,
   "id": "deb9ad69-a29e-4bb5-96d9-f4c1876fef6d",
   "metadata": {},
   "outputs": [],
   "source": [
    "import numpy as np\n",
    "import pandas as pd"
   ]
  },
  {
   "cell_type": "code",
   "execution_count": 21,
   "id": "9e32d9f1-84d3-4b42-ad95-d313a0da3fc7",
   "metadata": {},
   "outputs": [],
   "source": [
    "a =  [[1,2,3,4,5],[2,3,5,7,8]]"
   ]
  },
  {
   "cell_type": "code",
   "execution_count": 22,
   "id": "c9837285-9ced-48b4-84e1-977f6307338b",
   "metadata": {},
   "outputs": [],
   "source": [
    "myarray = np.array(a)"
   ]
  },
  {
   "cell_type": "code",
   "execution_count": 25,
   "id": "7686ef9f-cdef-4f5f-90e8-4781a09d896f",
   "metadata": {},
   "outputs": [
    {
     "data": {
      "text/plain": [
       "array([[1, 2, 3, 4, 5],\n",
       "       [2, 3, 5, 7, 8]])"
      ]
     },
     "execution_count": 25,
     "metadata": {},
     "output_type": "execute_result"
    }
   ],
   "source": [
    "myarray"
   ]
  },
  {
   "cell_type": "code",
   "execution_count": 51,
   "id": "5151f60e-91f7-4436-85ae-4664254f78ac",
   "metadata": {},
   "outputs": [],
   "source": [
    "df = pd.DataFrame(a,columns = [\"a\",\"b\",\"c\",\"d\",\"e\"], index = [\"first\",\"second\"])"
   ]
  },
  {
   "cell_type": "code",
   "execution_count": 72,
   "id": "a6d8362d-a0bc-4492-b353-01e96e5d33dc",
   "metadata": {},
   "outputs": [],
   "source": [
    "df = df.astype({\"a\": str,\"b\":float,\"c\":int,\"d\":float})"
   ]
  },
  {
   "cell_type": "code",
   "execution_count": 73,
   "id": "65f8a1a0-ba7a-48b7-9f4a-1ce9f5516644",
   "metadata": {},
   "outputs": [
    {
     "name": "stdout",
     "output_type": "stream",
     "text": [
      "<class 'pandas.core.frame.DataFrame'>\n",
      "Index: 2 entries, first to second\n",
      "Data columns (total 5 columns):\n",
      " #   Column  Non-Null Count  Dtype  \n",
      "---  ------  --------------  -----  \n",
      " 0   a       2 non-null      object \n",
      " 1   b       2 non-null      float64\n",
      " 2   c       2 non-null      int64  \n",
      " 3   d       2 non-null      float64\n",
      " 4   e       2 non-null      int64  \n",
      "dtypes: float64(2), int64(2), object(1)\n",
      "memory usage: 96.0+ bytes\n",
      "None\n"
     ]
    }
   ],
   "source": [
    "print(df.info())"
   ]
  },
  {
   "cell_type": "code",
   "execution_count": 78,
   "id": "0c2f2947-5af5-4791-9fb3-beb8da0b89a3",
   "metadata": {},
   "outputs": [],
   "source": [
    "student = [{\"Name\":\"Ahmed\",\"Fname\":\"Ali\",\"FinalMarks\":80,\"Grade\":\"A\"},\n",
    "           {\"Name\":\"Ahmed\",\"Fname\":\"Ali\",\"FinalMarks\":80,\"Grade\":\"A\"},\n",
    "           {\"Name\":\"Ahmed\",\"Fname\":\"Ali\",\"FinalMarks\":\"Fail\",\"Grade\":\"A\"},\n",
    "           {\"Name\":\"Ahmed\",\"Fname\":\"Ali\",\"FinalMarks\":80,\"Grade\":\"A\"},\n",
    "           {\"Name\":\"Ahmed\",\"Fname\":\"Ali\",\"FinalMarks\":80,\"Grade\":\"A\"},\n",
    "          {\"Name\":\"Ahmed\",\"Fname\":\"Ali\",\"FinalMarks\":80,\"Grade\":\"A\"},\n",
    "           {\"Name\":\"Ahmed\",\"Fname\":\"Ali\",\"FinalMarks\":80,\"Grade\":\"A\"},\n",
    "           {\"Name\":\"Ahmed\",\"Fname\":\"Ali\",\"FinalMarks\":\"Fail\",\"Grade\":\"A\"},\n",
    "           {\"Name\":\"Ahmed\",\"Fname\":\"Ali\",\"FinalMarks\":80,\"Grade\":\"A\"},\n",
    "           {\"Name\":\"Ahmed\",\"Fname\":\"Ali\",\"FinalMarks\":80,\"Grade\":\"A\"},\n",
    "          {\"Name\":\"Ahmed\",\"Fname\":\"Ali\",\"FinalMarks\":80,\"Grade\":\"A\"},\n",
    "           {\"Name\":\"Ahmed\",\"Fname\":\"Ali\",\"FinalMarks\":80,\"Grade\":\"A\"},\n",
    "           {\"Name\":\"Ahmed\",\"Fname\":\"Ali\",\"FinalMarks\":\"Fail\",\"Grade\":\"A\"},\n",
    "           {\"Name\":\"Ahmed\",\"Fname\":\"Ali\",\"FinalMarks\":80,\"Grade\":\"A\"},\n",
    "           {\"Name\":\"Ahmed\",\"Fname\":\"Ali\",\"FinalMarks\":80,\"Grade\":\"A\"},{\"Name\":\"Ahmed\",\"Fname\":\"Ali\",\"FinalMarks\":80,\"Grade\":\"A\"},\n",
    "           {\"Name\":\"Ahmed\",\"Fname\":\"Ali\",\"FinalMarks\":80,\"Grade\":\"A\"},\n",
    "           {\"Name\":\"Ahmed\",\"Fname\":\"Ali\",\"FinalMarks\":\"Fail\",\"Grade\":\"A\"},\n",
    "           {\"Name\":\"Ahmed\",\"Fname\":\"Ali\",\"FinalMarks\":80,\"Grade\":\"A\"},\n",
    "           {\"Name\":\"Ahmed\",\"Fname\":\"Ali\",\"FinalMarks\":80,\"Grade\":\"A\"}]"
   ]
  },
  {
   "cell_type": "code",
   "execution_count": 79,
   "id": "c5d8a976-b2bd-43a9-a70d-961330416691",
   "metadata": {},
   "outputs": [],
   "source": [
    "df2 = pd.DataFrame(student)"
   ]
  },
  {
   "cell_type": "code",
   "execution_count": 80,
   "id": "e4684d6f-0fbe-4b89-a095-e69280545d72",
   "metadata": {},
   "outputs": [
    {
     "data": {
      "text/html": [
       "<div>\n",
       "<style scoped>\n",
       "    .dataframe tbody tr th:only-of-type {\n",
       "        vertical-align: middle;\n",
       "    }\n",
       "\n",
       "    .dataframe tbody tr th {\n",
       "        vertical-align: top;\n",
       "    }\n",
       "\n",
       "    .dataframe thead th {\n",
       "        text-align: right;\n",
       "    }\n",
       "</style>\n",
       "<table border=\"1\" class=\"dataframe\">\n",
       "  <thead>\n",
       "    <tr style=\"text-align: right;\">\n",
       "      <th></th>\n",
       "      <th>Name</th>\n",
       "      <th>Fname</th>\n",
       "      <th>FinalMarks</th>\n",
       "      <th>Grade</th>\n",
       "    </tr>\n",
       "  </thead>\n",
       "  <tbody>\n",
       "    <tr>\n",
       "      <th>0</th>\n",
       "      <td>Ahmed</td>\n",
       "      <td>Ali</td>\n",
       "      <td>80</td>\n",
       "      <td>A</td>\n",
       "    </tr>\n",
       "    <tr>\n",
       "      <th>1</th>\n",
       "      <td>Ahmed</td>\n",
       "      <td>Ali</td>\n",
       "      <td>80</td>\n",
       "      <td>A</td>\n",
       "    </tr>\n",
       "    <tr>\n",
       "      <th>2</th>\n",
       "      <td>Ahmed</td>\n",
       "      <td>Ali</td>\n",
       "      <td>Fail</td>\n",
       "      <td>A</td>\n",
       "    </tr>\n",
       "    <tr>\n",
       "      <th>3</th>\n",
       "      <td>Ahmed</td>\n",
       "      <td>Ali</td>\n",
       "      <td>80</td>\n",
       "      <td>A</td>\n",
       "    </tr>\n",
       "    <tr>\n",
       "      <th>4</th>\n",
       "      <td>Ahmed</td>\n",
       "      <td>Ali</td>\n",
       "      <td>80</td>\n",
       "      <td>A</td>\n",
       "    </tr>\n",
       "  </tbody>\n",
       "</table>\n",
       "</div>"
      ],
      "text/plain": [
       "    Name Fname FinalMarks Grade\n",
       "0  Ahmed   Ali         80     A\n",
       "1  Ahmed   Ali         80     A\n",
       "2  Ahmed   Ali       Fail     A\n",
       "3  Ahmed   Ali         80     A\n",
       "4  Ahmed   Ali         80     A"
      ]
     },
     "execution_count": 80,
     "metadata": {},
     "output_type": "execute_result"
    }
   ],
   "source": [
    "df2"
   ]
  },
  {
   "cell_type": "code",
   "execution_count": 81,
   "id": "9a17a63f-58d3-45a6-bd9b-a7210a01f872",
   "metadata": {},
   "outputs": [
    {
     "name": "stdout",
     "output_type": "stream",
     "text": [
      "<class 'pandas.core.frame.DataFrame'>\n",
      "RangeIndex: 5 entries, 0 to 4\n",
      "Data columns (total 4 columns):\n",
      " #   Column      Non-Null Count  Dtype \n",
      "---  ------      --------------  ----- \n",
      " 0   Name        5 non-null      object\n",
      " 1   Fname       5 non-null      object\n",
      " 2   FinalMarks  5 non-null      object\n",
      " 3   Grade       5 non-null      object\n",
      "dtypes: object(4)\n",
      "memory usage: 292.0+ bytes\n"
     ]
    }
   ],
   "source": [
    "df2.info()"
   ]
  },
  {
   "cell_type": "code",
   "execution_count": 91,
   "id": "00770d1b-1184-4de9-9102-91b6f1181d5b",
   "metadata": {},
   "outputs": [
    {
     "data": {
      "text/plain": [
       "\u001b[1;31mSignature:\u001b[0m\n",
       "\u001b[0mpd\u001b[0m\u001b[1;33m.\u001b[0m\u001b[0mto_numeric\u001b[0m\u001b[1;33m(\u001b[0m\u001b[1;33m\n",
       "\u001b[0m    \u001b[0marg\u001b[0m\u001b[1;33m,\u001b[0m\u001b[1;33m\n",
       "\u001b[0m    \u001b[0merrors\u001b[0m\u001b[1;33m:\u001b[0m \u001b[1;34m'DateTimeErrorChoices'\u001b[0m \u001b[1;33m=\u001b[0m \u001b[1;34m'raise'\u001b[0m\u001b[1;33m,\u001b[0m\u001b[1;33m\n",
       "\u001b[0m    \u001b[0mdowncast\u001b[0m\u001b[1;33m:\u001b[0m \u001b[1;34m\"Literal['integer', 'signed', 'unsigned', 'float'] | None\"\u001b[0m \u001b[1;33m=\u001b[0m \u001b[1;32mNone\u001b[0m\u001b[1;33m,\u001b[0m\u001b[1;33m\n",
       "\u001b[0m    \u001b[0mdtype_backend\u001b[0m\u001b[1;33m:\u001b[0m \u001b[1;34m'DtypeBackend | lib.NoDefault'\u001b[0m \u001b[1;33m=\u001b[0m \u001b[1;33m<\u001b[0m\u001b[0mno_default\u001b[0m\u001b[1;33m>\u001b[0m\u001b[1;33m,\u001b[0m\u001b[1;33m\n",
       "\u001b[0m\u001b[1;33m)\u001b[0m\u001b[1;33m\u001b[0m\u001b[1;33m\u001b[0m\u001b[0m\n",
       "\u001b[1;31mDocstring:\u001b[0m\n",
       "Convert argument to a numeric type.\n",
       "\n",
       "The default return dtype is `float64` or `int64`\n",
       "depending on the data supplied. Use the `downcast` parameter\n",
       "to obtain other dtypes.\n",
       "\n",
       "Please note that precision loss may occur if really large numbers\n",
       "are passed in. Due to the internal limitations of `ndarray`, if\n",
       "numbers smaller than `-9223372036854775808` (np.iinfo(np.int64).min)\n",
       "or larger than `18446744073709551615` (np.iinfo(np.uint64).max) are\n",
       "passed in, it is very likely they will be converted to float so that\n",
       "they can be stored in an `ndarray`. These warnings apply similarly to\n",
       "`Series` since it internally leverages `ndarray`.\n",
       "\n",
       "Parameters\n",
       "----------\n",
       "arg : scalar, list, tuple, 1-d array, or Series\n",
       "    Argument to be converted.\n",
       "errors : {'ignore', 'raise', 'coerce'}, default 'raise'\n",
       "    - If 'raise', then invalid parsing will raise an exception.\n",
       "    - If 'coerce', then invalid parsing will be set as NaN.\n",
       "    - If 'ignore', then invalid parsing will return the input.\n",
       "\n",
       "    .. versionchanged:: 2.2\n",
       "\n",
       "    \"ignore\" is deprecated. Catch exceptions explicitly instead.\n",
       "\n",
       "downcast : str, default None\n",
       "    Can be 'integer', 'signed', 'unsigned', or 'float'.\n",
       "    If not None, and if the data has been successfully cast to a\n",
       "    numerical dtype (or if the data was numeric to begin with),\n",
       "    downcast that resulting data to the smallest numerical dtype\n",
       "    possible according to the following rules:\n",
       "\n",
       "    - 'integer' or 'signed': smallest signed int dtype (min.: np.int8)\n",
       "    - 'unsigned': smallest unsigned int dtype (min.: np.uint8)\n",
       "    - 'float': smallest float dtype (min.: np.float32)\n",
       "\n",
       "    As this behaviour is separate from the core conversion to\n",
       "    numeric values, any errors raised during the downcasting\n",
       "    will be surfaced regardless of the value of the 'errors' input.\n",
       "\n",
       "    In addition, downcasting will only occur if the size\n",
       "    of the resulting data's dtype is strictly larger than\n",
       "    the dtype it is to be cast to, so if none of the dtypes\n",
       "    checked satisfy that specification, no downcasting will be\n",
       "    performed on the data.\n",
       "dtype_backend : {'numpy_nullable', 'pyarrow'}, default 'numpy_nullable'\n",
       "    Back-end data type applied to the resultant :class:`DataFrame`\n",
       "    (still experimental). Behaviour is as follows:\n",
       "\n",
       "    * ``\"numpy_nullable\"``: returns nullable-dtype-backed :class:`DataFrame`\n",
       "      (default).\n",
       "    * ``\"pyarrow\"``: returns pyarrow-backed nullable :class:`ArrowDtype`\n",
       "      DataFrame.\n",
       "\n",
       "    .. versionadded:: 2.0\n",
       "\n",
       "Returns\n",
       "-------\n",
       "ret\n",
       "    Numeric if parsing succeeded.\n",
       "    Return type depends on input.  Series if Series, otherwise ndarray.\n",
       "\n",
       "See Also\n",
       "--------\n",
       "DataFrame.astype : Cast argument to a specified dtype.\n",
       "to_datetime : Convert argument to datetime.\n",
       "to_timedelta : Convert argument to timedelta.\n",
       "numpy.ndarray.astype : Cast a numpy array to a specified type.\n",
       "DataFrame.convert_dtypes : Convert dtypes.\n",
       "\n",
       "Examples\n",
       "--------\n",
       "Take separate series and convert to numeric, coercing when told to\n",
       "\n",
       ">>> s = pd.Series(['1.0', '2', -3])\n",
       ">>> pd.to_numeric(s)\n",
       "0    1.0\n",
       "1    2.0\n",
       "2   -3.0\n",
       "dtype: float64\n",
       ">>> pd.to_numeric(s, downcast='float')\n",
       "0    1.0\n",
       "1    2.0\n",
       "2   -3.0\n",
       "dtype: float32\n",
       ">>> pd.to_numeric(s, downcast='signed')\n",
       "0    1\n",
       "1    2\n",
       "2   -3\n",
       "dtype: int8\n",
       ">>> s = pd.Series(['apple', '1.0', '2', -3])\n",
       ">>> pd.to_numeric(s, errors='coerce')\n",
       "0    NaN\n",
       "1    1.0\n",
       "2    2.0\n",
       "3   -3.0\n",
       "dtype: float64\n",
       "\n",
       "Downcasting of nullable integer and floating dtypes is supported:\n",
       "\n",
       ">>> s = pd.Series([1, 2, 3], dtype=\"Int64\")\n",
       ">>> pd.to_numeric(s, downcast=\"integer\")\n",
       "0    1\n",
       "1    2\n",
       "2    3\n",
       "dtype: Int8\n",
       ">>> s = pd.Series([1.0, 2.1, 3.0], dtype=\"Float64\")\n",
       ">>> pd.to_numeric(s, downcast=\"float\")\n",
       "0    1.0\n",
       "1    2.1\n",
       "2    3.0\n",
       "dtype: Float32\n",
       "\u001b[1;31mFile:\u001b[0m      c:\\users\\memon\\appdata\\local\\programs\\python\\python311\\lib\\site-packages\\pandas\\core\\tools\\numeric.py\n",
       "\u001b[1;31mType:\u001b[0m      function"
      ]
     },
     "metadata": {},
     "output_type": "display_data"
    }
   ],
   "source": [
    "# df2[\"FinalMarks\"] = df2[\"FinalMarks\"].astype(float)\n",
    "df2[\"FinalMarks\"] = pd.to_numeric(df2[\"FinalMarks\"], errors = 'coerce')\n",
    "pd.to_numeric?"
   ]
  },
  {
   "cell_type": "code",
   "execution_count": 88,
   "id": "fc21de0e-b5f0-4bee-b6e6-83b94beb8c5a",
   "metadata": {},
   "outputs": [
    {
     "name": "stdout",
     "output_type": "stream",
     "text": [
      "<class 'pandas.core.frame.DataFrame'>\n",
      "RangeIndex: 5 entries, 0 to 4\n",
      "Data columns (total 4 columns):\n",
      " #   Column      Non-Null Count  Dtype  \n",
      "---  ------      --------------  -----  \n",
      " 0   Name        5 non-null      object \n",
      " 1   Fname       5 non-null      object \n",
      " 2   FinalMarks  4 non-null      float64\n",
      " 3   Grade       5 non-null      object \n",
      "dtypes: float64(1), object(3)\n",
      "memory usage: 292.0+ bytes\n"
     ]
    }
   ],
   "source": [
    "df2.info()"
   ]
  },
  {
   "cell_type": "code",
   "execution_count": 96,
   "id": "c4e921ff-e5e1-4b4f-9714-396c7427f000",
   "metadata": {},
   "outputs": [
    {
     "data": {
      "text/plain": [
       "<bound method NDFrame.head of     Name Fname  FinalMarks Grade\n",
       "0  Ahmed   Ali        80.0     A\n",
       "1  Ahmed   Ali        80.0     A\n",
       "2  Ahmed   Ali         NaN     A\n",
       "3  Ahmed   Ali        80.0     A\n",
       "4  Ahmed   Ali        80.0     A>"
      ]
     },
     "execution_count": 96,
     "metadata": {},
     "output_type": "execute_result"
    }
   ],
   "source": [
    "df2.head"
   ]
  },
  {
   "cell_type": "code",
   "execution_count": null,
   "id": "126ff93a-3f70-4147-9201-843e639ad19d",
   "metadata": {},
   "outputs": [],
   "source": []
  }
 ],
 "metadata": {
  "kernelspec": {
   "display_name": "Python 3 (ipykernel)",
   "language": "python",
   "name": "python3"
  },
  "language_info": {
   "codemirror_mode": {
    "name": "ipython",
    "version": 3
   },
   "file_extension": ".py",
   "mimetype": "text/x-python",
   "name": "python",
   "nbconvert_exporter": "python",
   "pygments_lexer": "ipython3",
   "version": "3.11.3"
  }
 },
 "nbformat": 4,
 "nbformat_minor": 5
}
