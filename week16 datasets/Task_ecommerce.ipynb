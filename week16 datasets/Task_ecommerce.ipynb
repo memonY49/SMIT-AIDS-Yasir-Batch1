{
 "cells": [
  {
   "cell_type": "code",
   "execution_count": 2,
   "id": "4810796a-2333-4483-bed4-206c4178e163",
   "metadata": {},
   "outputs": [],
   "source": [
    "import numpy as np"
   ]
  },
  {
   "cell_type": "code",
   "execution_count": 49,
   "id": "a60b53c4-c6d8-4bfe-8e60-0f66e4b499a9",
   "metadata": {},
   "outputs": [
    {
     "data": {
      "text/plain": [
       "array(['order_id', 'customer_id', 'product_id', 'quantity',\n",
       "       'price_per_unit'], dtype='<U14')"
      ]
     },
     "execution_count": 49,
     "metadata": {},
     "output_type": "execute_result"
    }
   ],
   "source": [
    "customer_details = np.loadtxt(\"customer.csv\", delimiter = ',',dtype = str)\n",
    "customer_headers = customer_details[0,:]\n",
    "customer_details = np.delete(customer_details, 0, axis = 0)\n",
    "order_details = np.loadtxt(\"order.csv\", delimiter = ',',dtype = str)\n",
    "order_headers = order_details[0,:]\n",
    "order_details = np.delete(order_details, 0, axis = 0)\n",
    "product_details = np.loadtxt(\"product.csv\", delimiter = ',',dtype = str)\n",
    "order_headers"
   ]
  },
  {
   "cell_type": "code",
   "execution_count": 4,
   "id": "c9c7db66-1bf7-4603-9467-d0fa568ca8af",
   "metadata": {},
   "outputs": [
    {
     "name": "stdout",
     "output_type": "stream",
     "text": [
      "[['customer_id' 'customer_name' 'email' 'phone']\n",
      " ['cid-001' 'Customer_1' 'customer1@example.com' '+12345678901']\n",
      " ['cid-002' 'Customer_2' 'customer2@example.com' '+12345678902']\n",
      " ['cid-003' 'Customer_3' 'customer3@example.com' '+12345678903']\n",
      " ['cid-004' 'Customer_4' 'customer4@example.com' '+12345678904']\n",
      " ['cid-005' 'Customer_5' 'customer5@example.com' '+12345678905']\n",
      " ['cid-006' 'Customer_6' 'customer6@example.com' '+12345678906']\n",
      " ['cid-007' 'Customer_7' 'customer7@example.com' '+12345678907']\n",
      " ['cid-008' 'Customer_8' 'customer8@example.com' '+12345678908']\n",
      " ['cid-009' 'Customer_9' 'customer9@example.com' '+12345678909']\n",
      " ['cid-010' 'Customer_10' 'customer10@example.com' '+12345678910']\n",
      " ['cid-011' 'Customer_11' 'customer11@example.com' '+12345678911']\n",
      " ['cid-012' 'Customer_12' 'customer12@example.com' '+12345678912']\n",
      " ['cid-013' 'Customer_13' 'customer13@example.com' '+12345678913']\n",
      " ['cid-014' 'Customer_14' 'customer14@example.com' '+12345678914']\n",
      " ['cid-015' 'Customer_15' 'customer15@example.com' '+12345678915']\n",
      " ['cid-016' 'Customer_16' 'customer16@example.com' '+12345678916']\n",
      " ['cid-017' 'Customer_17' 'customer17@example.com' '+12345678917']\n",
      " ['cid-018' 'Customer_18' 'customer18@example.com' '+12345678918']\n",
      " ['cid-019' 'Customer_19' 'customer19@example.com' '+12345678919']\n",
      " ['cid-020' 'Customer_20' 'customer20@example.com' '+12345678920']]\n"
     ]
    }
   ],
   "source": [
    "print(customer_details)"
   ]
  },
  {
   "cell_type": "code",
   "execution_count": 11,
   "id": "da9f0709-7999-4641-9fb9-6b072add2fb4",
   "metadata": {},
   "outputs": [
    {
     "name": "stdout",
     "output_type": "stream",
     "text": [
      "Total orders: 200\n"
     ]
    }
   ],
   "source": [
    "print(f\"Total orders: {order_details.shape[0]}\")"
   ]
  },
  {
   "cell_type": "markdown",
   "id": "380660de-2ea6-4abf-a826-6c6007452879",
   "metadata": {},
   "source": [
    "# Analyze my ecommerce webstore on given information of customers, products and orders.\n",
    "# Analysis:\n",
    "- Find how many customers are repeating on my store.\n",
    "- Find which product is top sailing product on the basis of repeated orders.\n",
    "- Find which product should be discontinued as it is the least soled product on my store.\n",
    "- Find which customer should get more discount as he/she keep visiting my store more than 5 tines.\n",
    "- What is my total income till end.\n",
    "- Write me a full report on monthly sale."
   ]
  },
  {
   "cell_type": "code",
   "execution_count": 55,
   "id": "a550384d-0d9f-42b3-aa4a-37cad85e6ac2",
   "metadata": {},
   "outputs": [
    {
     "data": {
      "text/plain": [
       "[np.str_('Customer_5'),\n",
       " np.str_('Customer_8'),\n",
       " np.str_('Customer_9'),\n",
       " np.str_('Customer_13'),\n",
       " np.str_('Customer_14'),\n",
       " np.str_('Customer_15'),\n",
       " np.str_('Customer_18')]"
      ]
     },
     "execution_count": 55,
     "metadata": {},
     "output_type": "execute_result"
    }
   ],
   "source": [
    "# customer_details = np.loadtxt(\"customer.csv\", delimiter = ',',dtype = str)\n",
    "# order_details = np.loadtxt(\"order.csv\", delimiter = ',',dtype = str)\n",
    "# order_headers = order_details[0,:]\n",
    "# order_details = np.delete(order_details, 0, axis = 0)\n",
    "# product_details = np.loadtxt(\"product.csv\", delimiter = ',',dtype = str)\n",
    "\n",
    "unique_customers, customer_count = np.unique(order_details[:,1],return_counts = True)\n",
    "repeated_customer = np.vstack((unique_customers,customer_count))\n",
    "repeated_customers = list(zip(unique_customers,customer_count))\n",
    "dis_available = [customer for (customer, count) in repeated_customers if count >= 10]\n",
    "dis_cus_names = [customer_details[np.where(customer_details == cst)[0],1] for cst in dis_available]\n",
    "[name for cid, name in customer_details[:,:2] if cid in dis_available]"
   ]
  },
  {
   "cell_type": "code",
   "execution_count": 62,
   "id": "e2b5de8d-6308-4670-8adb-573bd3262ab8",
   "metadata": {},
   "outputs": [
    {
     "data": {
      "text/plain": [
       "np.float64(25604.17)"
      ]
     },
     "execution_count": 62,
     "metadata": {},
     "output_type": "execute_result"
    }
   ],
   "source": [
    "total_order_price = [quantity.astype(float)* price.astype(float) for quantity, price in order_details[:,3:5]]\n",
    "np.sum(total_order_price)"
   ]
  },
  {
   "cell_type": "code",
   "execution_count": 68,
   "id": "058d9b02-a04a-49c5-9bcb-bd9546e5f9cf",
   "metadata": {},
   "outputs": [],
   "source": [
    "array_1 = np.array([2,4,6,8,9,12,13,90])"
   ]
  },
  {
   "cell_type": "code",
   "execution_count": 69,
   "id": "e13671b0-c816-4317-8d42-4e53bf432f86",
   "metadata": {},
   "outputs": [
    {
     "data": {
      "text/plain": [
       "np.float64(18.0)"
      ]
     },
     "execution_count": 69,
     "metadata": {},
     "output_type": "execute_result"
    }
   ],
   "source": [
    "np.mean(array_1)"
   ]
  },
  {
   "cell_type": "code",
   "execution_count": 70,
   "id": "701c227f-0841-469b-b590-a8efe6aa3a34",
   "metadata": {},
   "outputs": [
    {
     "data": {
      "text/plain": [
       "np.float64(752.75)"
      ]
     },
     "execution_count": 70,
     "metadata": {},
     "output_type": "execute_result"
    }
   ],
   "source": [
    "np.var(array_1)"
   ]
  },
  {
   "cell_type": "code",
   "execution_count": 71,
   "id": "c228b160-92c7-47bd-ae9d-189e703bc276",
   "metadata": {},
   "outputs": [
    {
     "data": {
      "text/plain": [
       "np.float64(27.436289836637897)"
      ]
     },
     "execution_count": 71,
     "metadata": {},
     "output_type": "execute_result"
    }
   ],
   "source": [
    "np.std(array_1)"
   ]
  },
  {
   "cell_type": "code",
   "execution_count": 77,
   "id": "1754fb70-dfa0-4be2-b447-1a3412838eb0",
   "metadata": {},
   "outputs": [
    {
     "name": "stdin",
     "output_type": "stream",
     "text": [
      " 1+2\n"
     ]
    },
    {
     "data": {
      "text/plain": [
       "3"
      ]
     },
     "execution_count": 77,
     "metadata": {},
     "output_type": "execute_result"
    }
   ],
   "source": [
    "equation = input()\n",
    "eval(equation)"
   ]
  },
  {
   "cell_type": "code",
   "execution_count": null,
   "id": "608b33a6-4b8e-48ef-9f51-d3ec94c6b54f",
   "metadata": {},
   "outputs": [],
   "source": []
  }
 ],
 "metadata": {
  "kernelspec": {
   "display_name": "Python 3 (ipykernel)",
   "language": "python",
   "name": "python3"
  },
  "language_info": {
   "codemirror_mode": {
    "name": "ipython",
    "version": 3
   },
   "file_extension": ".py",
   "mimetype": "text/x-python",
   "name": "python",
   "nbconvert_exporter": "python",
   "pygments_lexer": "ipython3",
   "version": "3.11.3"
  }
 },
 "nbformat": 4,
 "nbformat_minor": 5
}
